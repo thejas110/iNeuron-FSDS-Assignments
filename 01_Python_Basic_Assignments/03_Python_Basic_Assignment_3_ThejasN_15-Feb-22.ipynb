{
 "cells": [
  {
   "cell_type": "markdown",
   "id": "45d6f9e1",
   "metadata": {},
   "source": [
    "<h2 style='color:skyblue' align='center'>iNeuron Full Stack Data Science Assignments</h2>\n",
    "<h3 style='color:brown' align='center'>Python Basic Assignment_3</h3>\n",
    "<h4 style='color:black' align='center'> Notebook Submitted By Thejas N on 15-Feb-22 </h4>"
   ]
  },
  {
   "cell_type": "markdown",
   "id": "b420d610",
   "metadata": {},
   "source": [
    "### 1. Why are functions advantageous to have in your programs?"
   ]
  },
  {
   "cell_type": "markdown",
   "id": "269ff77a",
   "metadata": {},
   "source": [
    "**Solution:**  \n",
    "\n",
    "1. It helps to divide the large programs into small groups so that we can read the code, and debug the program faster and better.\n",
    "\n",
    "2. It help us from writing the same logic various times. We can bind the logic in one def and then call the same over and over.\n",
    "\n",
    "3. Many can work on the same program by assigning different methods to each of them."
   ]
  },
  {
   "cell_type": "markdown",
   "id": "5a917012",
   "metadata": {},
   "source": [
    "### 2. When does the code in a function run: when it's specified or when it's called?"
   ]
  },
  {
   "cell_type": "markdown",
   "id": "40eec93e",
   "metadata": {},
   "source": [
    "**Solution:**  \n",
    "\n",
    "The code in a function run **when it is called.**"
   ]
  },
  {
   "cell_type": "markdown",
   "id": "a1ed6fb2",
   "metadata": {},
   "source": [
    "### 3. What statement creates a function?"
   ]
  },
  {
   "cell_type": "markdown",
   "id": "23f6844f",
   "metadata": {},
   "source": [
    "**Solution**: The **'def'** keyword is a statement which creates a function."
   ]
  },
  {
   "cell_type": "markdown",
   "id": "1e34968b",
   "metadata": {},
   "source": [
    "### 4. What is the difference between a function and a function call?"
   ]
  },
  {
   "cell_type": "markdown",
   "id": "ca7e5f5f",
   "metadata": {},
   "source": [
    "**Solution**: \n",
    "\n",
    "- **function** accepts an inputs as parameters and returns a result where parameters are not mandatory.\n",
    "    - Example: \n",
    "        - def add(a,b):\n",
    "            - return a+b\n",
    "            \n",
    "- **function call** is the code used to pass control to a function where parameters are mandatory.\n",
    "    - Example: \n",
    "        - addition = add(2,3):\n",
    "        - Here, addition is a variable assigned with the output of called function 'add(2,3)' which is '5'."
   ]
  },
  {
   "cell_type": "markdown",
   "id": "44feecd6",
   "metadata": {},
   "source": [
    "### 5. How many global scopes are there in a Python program? How many local scopes?"
   ]
  },
  {
   "cell_type": "markdown",
   "id": "cbc9bc14",
   "metadata": {},
   "source": [
    "**Solution:**\n",
    "\n",
    "**Global Scopes**\n",
    " - There is only one global scope available.The global scope is created once the program starts and gets destroyed with the termination of the python program. \n",
    " \n",
    " \n",
    "**Local Scopes**\n",
    "- The local scope is defined for a block of code for example, function. Each function has its own local scope in which all its variables and object names are defined. \n",
    "\n",
    "- The local scope of a function is loaded when the function is called by any other function. Once the function terminates, the local scope associated with it is also terminated."
   ]
  },
  {
   "cell_type": "markdown",
   "id": "6b2fffeb",
   "metadata": {},
   "source": [
    "### 6. What happens to variables in a local scope when the function call returns?"
   ]
  },
  {
   "cell_type": "markdown",
   "id": "f607dc8d",
   "metadata": {},
   "source": [
    "**Solution**: The local scope will be destroyed and the variables in a local scope are forgotten."
   ]
  },
  {
   "cell_type": "markdown",
   "id": "63ef43fe",
   "metadata": {},
   "source": [
    "### 7. What is the concept of a return value? Is it possible to have a return value in an expression?"
   ]
  },
  {
   "cell_type": "markdown",
   "id": "6f269da4",
   "metadata": {},
   "source": [
    "**Solution**: \n",
    "\n",
    "- A return value is a value that a function returns to the calling function when it completes its task. It can be any one of the four variable types: integer, object, or string.\n",
    "\n",
    "- Yes, it is possible to have a return value in an expression. "
   ]
  },
  {
   "cell_type": "markdown",
   "id": "30f356b1",
   "metadata": {},
   "source": [
    "### 8. If a function does not have a return statement, what is the return value of a call to that function?"
   ]
  },
  {
   "cell_type": "markdown",
   "id": "8f04fb10",
   "metadata": {},
   "source": [
    "**Solution**: \n",
    "\n",
    "- 'None' will be the return value if the function does not have a return statement."
   ]
  },
  {
   "cell_type": "markdown",
   "id": "47a2dc11",
   "metadata": {},
   "source": [
    "### 9. How do you make a function variable refer to the global variable?"
   ]
  },
  {
   "cell_type": "markdown",
   "id": "d5da5774",
   "metadata": {},
   "source": [
    "**Solution**: If we want to refer to a global variable in a function, we can use the **global** keyword to declare which variables are global."
   ]
  },
  {
   "cell_type": "markdown",
   "id": "e78b791e",
   "metadata": {},
   "source": [
    "### 10. What is the data type of None?"
   ]
  },
  {
   "cell_type": "markdown",
   "id": "34bb6f36",
   "metadata": {},
   "source": [
    "**Solution**: The datatype of None is **NoneType**"
   ]
  },
  {
   "cell_type": "markdown",
   "id": "fc7112ce",
   "metadata": {},
   "source": [
    "### 11. What does the sentence import areallyourpetsnamederic do?"
   ]
  },
  {
   "cell_type": "markdown",
   "id": "89687bd7",
   "metadata": {},
   "source": [
    "**Solution** Import sentence imports the **module** 'areallyourpetsnamederic'"
   ]
  },
  {
   "cell_type": "markdown",
   "id": "28b50cee",
   "metadata": {},
   "source": [
    "### 12. If you had a bacon() feature in a spam module, what would you call it after importing spam?"
   ]
  },
  {
   "cell_type": "markdown",
   "id": "7d1400ec",
   "metadata": {},
   "source": [
    "**Solution**: spam.bacon()"
   ]
  },
  {
   "cell_type": "markdown",
   "id": "af7f7114",
   "metadata": {},
   "source": [
    "### 13. What can you do to save a programme from crashing if it encounters an error?\n"
   ]
  },
  {
   "cell_type": "markdown",
   "id": "5e964794",
   "metadata": {},
   "source": [
    "**Solution**: I will write the code inside **try clause** to save a program from crashing if it encounters an error"
   ]
  },
  {
   "cell_type": "markdown",
   "id": "ce3b6aae",
   "metadata": {},
   "source": [
    "### 14. What is the purpose of the try clause? What is the purpose of the except clause?"
   ]
  },
  {
   "cell_type": "markdown",
   "id": "e5174ae4",
   "metadata": {},
   "source": [
    "**Solution:**\n",
    "    \n",
    "- **try clause**: The try block lets us to test a block of code for errors.\n",
    "\n",
    "- **except clause**: The except block lets us to handle the error."
   ]
  },
  {
   "cell_type": "markdown",
   "id": "178cd7a0",
   "metadata": {},
   "source": [
    "-------------------------------------End of Assignment---------------------------------------------------------------------"
   ]
  }
 ],
 "metadata": {
  "kernelspec": {
   "display_name": "Python 3",
   "language": "python",
   "name": "python3"
  },
  "language_info": {
   "codemirror_mode": {
    "name": "ipython",
    "version": 3
   },
   "file_extension": ".py",
   "mimetype": "text/x-python",
   "name": "python",
   "nbconvert_exporter": "python",
   "pygments_lexer": "ipython3",
   "version": "3.8.8"
  }
 },
 "nbformat": 4,
 "nbformat_minor": 5
}
