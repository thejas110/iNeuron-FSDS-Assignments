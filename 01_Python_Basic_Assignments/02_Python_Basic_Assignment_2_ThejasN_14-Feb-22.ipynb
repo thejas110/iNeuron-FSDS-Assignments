{
 "cells": [
  {
   "cell_type": "markdown",
   "id": "45d6f9e1",
   "metadata": {},
   "source": [
    "<h2 style='color:skyblue' align='center'>iNeuron Full Stack Data Science Assignments</h2>\n",
    "<h3 style='color:brown' align='center'>Python Basic Assignment_2</h3>\n",
    "<h4 style='color:black' align='center'> Notebook Submitted By Thejas N on 14-Feb-22 </h4>"
   ]
  },
  {
   "cell_type": "markdown",
   "id": "b420d610",
   "metadata": {},
   "source": [
    "### 1. What are the two values of the Boolean data type? How do you write them?"
   ]
  },
  {
   "cell_type": "markdown",
   "id": "e87fa5d1",
   "metadata": {},
   "source": [
    "**Solution:**"
   ]
  },
  {
   "cell_type": "markdown",
   "id": "a4c2e7cc",
   "metadata": {},
   "source": [
    "- 'True' and 'False' are the two values of Boolean data type.\n",
    "\n",
    "- In Python True represents '1' and False represents '0'\n",
    "\n",
    "- Python built-in 'bool()' function is used to return or convert a value to a Boolean value i.e., True or False"
   ]
  },
  {
   "cell_type": "code",
   "execution_count": 1,
   "id": "2184f428",
   "metadata": {},
   "outputs": [
    {
     "name": "stdout",
     "output_type": "stream",
     "text": [
      "Type of var1 is: True\n",
      "Type of var2 is: False\n"
     ]
    }
   ],
   "source": [
    "# Example:\n",
    "var1 = 1\n",
    "var2 = 0\n",
    "print('Type of var1 is:', bool(var1))\n",
    "print('Type of var2 is:', bool(var2))"
   ]
  },
  {
   "cell_type": "markdown",
   "id": "f13b866f",
   "metadata": {},
   "source": [
    "### 2. What are the three different types of Boolean operators?"
   ]
  },
  {
   "cell_type": "markdown",
   "id": "26e0547f",
   "metadata": {},
   "source": [
    "**Solution:**\n",
    "\n",
    "-  **not**, **and**, **or** are the three different types of Boolean operators.\n",
    "\n",
    "\n",
    "- The **not** operator is the logical Boolean operator That is, if the value is ‘True’, then the **not** operator will modify it to 'False' using **not** keyword and vice versa.\n",
    "    - Example: a = True, 'not a' returns False.\n",
    "\n",
    "\n",
    "- The **and** and **or** operators are the binary Boolean operators. \n"
   ]
  },
  {
   "cell_type": "markdown",
   "id": "6d76359c",
   "metadata": {},
   "source": [
    "### 3. Make a list of each Boolean operator's truth tables (i.e. every possible combination of Boolean values for the operator and what it evaluate )."
   ]
  },
  {
   "cell_type": "markdown",
   "id": "a8115c44",
   "metadata": {},
   "source": [
    "**Solution:**\n",
    "\n",
    "                                                - Truth table for 'not' operator\n",
    "|SL.No.|   Expression     | Output     |           \n",
    "|:---- |:-----------------|:-----------|\n",
    "|  01  | not True         | False      |\n",
    "|  02  | not False        | True       |\n",
    "\n",
    "                                                - Truth table for 'and' operator\n",
    "|SL.No.|   Expression     | Output     |           \n",
    "|:---- |:-----------------|:-----------|\n",
    "|  01  | True and True    | True       |\n",
    "|  02  | True and False   | False      |\n",
    "|  03  | False and True   | False      |\n",
    "|  04  | False and False  | False      |\n",
    "\n",
    "                                                - Truth table for 'or' operator\n",
    "|SL.No.|   Expression     | Output     |           \n",
    "|:---- |:-----------------|:-----------|\n",
    "|  01  | True or True     | True       |\n",
    "|  02  | True or  False   | True       |\n",
    "|  03  | False or  True   | True       |\n",
    "|  04  | False or  False  | False      |"
   ]
  },
  {
   "cell_type": "markdown",
   "id": "32562391",
   "metadata": {},
   "source": [
    "### 4. What are the values of the following expressions?\n",
    "\n",
    "- (5 > 4) and (3 == 5)\n",
    "- not (5 > 4)\n",
    "- (5 > 4) or (3 == 5)\n",
    "- not ((5 > 4) or (3 == 5))\n",
    "- (True and True) and (True == False)\n",
    "- (not False) or (not True)"
   ]
  },
  {
   "cell_type": "markdown",
   "id": "61ef2d12",
   "metadata": {},
   "source": [
    "**Solution:**"
   ]
  },
  {
   "cell_type": "code",
   "execution_count": 2,
   "id": "a39369b1",
   "metadata": {},
   "outputs": [
    {
     "data": {
      "text/plain": [
       "False"
      ]
     },
     "execution_count": 2,
     "metadata": {},
     "output_type": "execute_result"
    }
   ],
   "source": [
    "(5 > 4) and (3 == 5)"
   ]
  },
  {
   "cell_type": "code",
   "execution_count": 3,
   "id": "547c5421",
   "metadata": {},
   "outputs": [
    {
     "data": {
      "text/plain": [
       "False"
      ]
     },
     "execution_count": 3,
     "metadata": {},
     "output_type": "execute_result"
    }
   ],
   "source": [
    "not (5 > 4)"
   ]
  },
  {
   "cell_type": "code",
   "execution_count": 4,
   "id": "1506871d",
   "metadata": {},
   "outputs": [
    {
     "data": {
      "text/plain": [
       "True"
      ]
     },
     "execution_count": 4,
     "metadata": {},
     "output_type": "execute_result"
    }
   ],
   "source": [
    "(5 > 4) or (3 == 5)"
   ]
  },
  {
   "cell_type": "code",
   "execution_count": 5,
   "id": "9ce27aaf",
   "metadata": {},
   "outputs": [
    {
     "data": {
      "text/plain": [
       "False"
      ]
     },
     "execution_count": 5,
     "metadata": {},
     "output_type": "execute_result"
    }
   ],
   "source": [
    "not ((5 > 4) or (3 == 5))"
   ]
  },
  {
   "cell_type": "code",
   "execution_count": 6,
   "id": "2578f2c2",
   "metadata": {},
   "outputs": [
    {
     "data": {
      "text/plain": [
       "False"
      ]
     },
     "execution_count": 6,
     "metadata": {},
     "output_type": "execute_result"
    }
   ],
   "source": [
    "(True and True) and (True == False)"
   ]
  },
  {
   "cell_type": "code",
   "execution_count": 7,
   "id": "e2496369",
   "metadata": {},
   "outputs": [
    {
     "data": {
      "text/plain": [
       "True"
      ]
     },
     "execution_count": 7,
     "metadata": {},
     "output_type": "execute_result"
    }
   ],
   "source": [
    "(not False) or (not True)"
   ]
  },
  {
   "cell_type": "code",
   "execution_count": 8,
   "id": "e8d84408",
   "metadata": {},
   "outputs": [
    {
     "name": "stdout",
     "output_type": "stream",
     "text": [
      "01. The values of expression (5 > 4) and (3 == 5) is: False\n",
      "02. The values of expression not (5 > 4) is: False\n",
      "03. The values of expression (5 > 4) or (3 == 5) is: True\n",
      "04. The values of expression not (5 > 4) or (3 == 5) is: False\n",
      "05. The values of expression not (True and True) and (True == False) is: False\n",
      "06. The values of expression not (not False) or (not True) is: True\n"
     ]
    }
   ],
   "source": [
    "print('01. The values of expression (5 > 4) and (3 == 5) is:', False )\n",
    "\n",
    "print('02. The values of expression not (5 > 4) is:', False )\n",
    "\n",
    "print('03. The values of expression (5 > 4) or (3 == 5) is:', True )\n",
    "\n",
    "print('04. The values of expression not (5 > 4) or (3 == 5) is:', False )\n",
    "\n",
    "print('05. The values of expression not (True and True) and (True == False) is:', False )\n",
    "\n",
    "print('06. The values of expression not (not False) or (not True) is:', True )"
   ]
  },
  {
   "cell_type": "markdown",
   "id": "650435e3",
   "metadata": {},
   "source": [
    "### 5. What are the six comparison operators?"
   ]
  },
  {
   "cell_type": "markdown",
   "id": "f5e6624b",
   "metadata": {},
   "source": [
    "**Solution:**"
   ]
  },
  {
   "cell_type": "markdown",
   "id": "ae858849",
   "metadata": {},
   "source": [
    "                                                - Six Comparison operators\n",
    "|SL.No.|   Operator       | Description     |           \n",
    "|:---- |:-----------------|:----------------|\n",
    "|  01  | ==               | double equal to         |\n",
    "|  02  | <                | less than               |\n",
    "|  03  | >                | greater than            |\n",
    "|  04  | !=               | not equal to            |\n",
    "|  05  | >=               | greater than or equal to|\n",
    "|  06  | <=               | less than or equal to   |"
   ]
  },
  {
   "cell_type": "markdown",
   "id": "b2abf0b7",
   "metadata": {},
   "source": [
    "### 6. . How do you tell the difference between the equal to and assignment operators?Describe a condition and when you would use one."
   ]
  },
  {
   "cell_type": "markdown",
   "id": "0beb47d5",
   "metadata": {},
   "source": [
    "**Solution:**"
   ]
  },
  {
   "cell_type": "markdown",
   "id": "38f4d77c",
   "metadata": {},
   "source": [
    "- 'equal to(==)' operator checks whether the two given operands(a value that the operator operates on) are equal or not. If two operands are equal it returns true, else returns false.\n",
    "    - Example:\n",
    "        - 5==5 returns True\n",
    "        - 5==4 returns False\n",
    "    \n",
    "    \n",
    "- 'assignment(=)' operator assigns the value on the right to the variable on the left.\n",
    "    - Example:\n",
    "        - a=5 \n",
    "        - b = 'thejas'"
   ]
  },
  {
   "cell_type": "markdown",
   "id": "00754c6f",
   "metadata": {},
   "source": [
    "### 7. Identify the three blocks in this code:"
   ]
  },
  {
   "cell_type": "markdown",
   "id": "f9a64976",
   "metadata": {},
   "source": [
    "spam = 0 <br>\n",
    "if spam == 10:<br>\n",
    "     print('eggs')<br>\n",
    "if spam > 5:<br>\n",
    "    print('bacon')<br>\n",
    "else:<br>\n",
    "    print('ham')<br>\n",
    "    print('spam')<br>\n",
    "    print('spam')<br>"
   ]
  },
  {
   "cell_type": "markdown",
   "id": "df8dbe2f",
   "metadata": {},
   "source": [
    "**Solution:**"
   ]
  },
  {
   "cell_type": "markdown",
   "id": "9b7c12b0",
   "metadata": {},
   "source": [
    "- A new block starts when we increase an indentation of a previous line and ends when previous line indentation is decreased.\n",
    "\n",
    "- spam = 0\n",
    "\n",
    "- if spam == 10:\n",
    "\n",
    "   - print('eggs')             **Start of block 1** as indent of previous line increased\n",
    "      \n",
    "   - if spam > 5:              **block 1 remains as is** as indent of previous line neither increased nor decreased\n",
    "      \n",
    "       - print('bacon')        **Start of block 2** as indent of previous line increased.       \n",
    "       \n",
    "   - else:                     **End of block 2**  as indent of previous line decreased.\n",
    "      \n",
    "       - print('ham')          **Start of block 3** as indent of previous line increased.\n",
    "              \n",
    "   - print('spam')             **End of block 3** as indent of previous line decreased.\n",
    "      \n",
    "- print('spam')                **End of block 1**  as indent of previous line decreased."
   ]
  },
  {
   "cell_type": "markdown",
   "id": "585019bf",
   "metadata": {},
   "source": [
    "### 8. Write code that prints Hello if 1 is stored in spam, prints Howdy if 2 is stored in spam, and prints Greetings! if anything else is stored in spam."
   ]
  },
  {
   "cell_type": "markdown",
   "id": "3b409020",
   "metadata": {},
   "source": [
    "**Solution**:"
   ]
  },
  {
   "cell_type": "code",
   "execution_count": 9,
   "id": "bd350e9f",
   "metadata": {},
   "outputs": [
    {
     "name": "stdout",
     "output_type": "stream",
     "text": [
      "Enter an integer:1\n",
      "Hello\n"
     ]
    }
   ],
   "source": [
    "spam = int(input('Enter an integer:'))\n",
    "\n",
    "if spam == 1:\n",
    "    print('Hello')\n",
    "elif spam == 2:\n",
    "    print('Howdy')\n",
    "else:\n",
    "    print('Greetings')"
   ]
  },
  {
   "cell_type": "markdown",
   "id": "19ba2887",
   "metadata": {},
   "source": [
    "### 9. If your programme is stuck in an endless loop, what keys you’ll press?"
   ]
  },
  {
   "cell_type": "markdown",
   "id": "1eaea1c7",
   "metadata": {},
   "source": [
    "**Solution**: 'Ctrl + C'"
   ]
  },
  {
   "cell_type": "markdown",
   "id": "27cc8d6d",
   "metadata": {},
   "source": [
    "### 10. How can you tell the difference between break and continue?"
   ]
  },
  {
   "cell_type": "markdown",
   "id": "a816f2d9",
   "metadata": {},
   "source": [
    "**Solution:**\n",
    "\n",
    "- 'Break' eliminates the execution of remaining iteration of loop. Whereas 'continue' will terminate only the current iteration of loop."
   ]
  },
  {
   "cell_type": "code",
   "execution_count": 16,
   "id": "6d9d8bd5",
   "metadata": {},
   "outputs": [
    {
     "name": "stdout",
     "output_type": "stream",
     "text": [
      "t\n",
      "h\n",
      "e\n"
     ]
    }
   ],
   "source": [
    "# Example for break:\n",
    "\n",
    "for val in 'thejas':\n",
    "    if val== 'j':\n",
    "        break\n",
    "    print(val)"
   ]
  },
  {
   "cell_type": "markdown",
   "id": "81f7db62",
   "metadata": {},
   "source": [
    "- Here, break eliminates the remaining iteration of the loop once it find the character 'j'.\n",
    "- So, the output will be upto character 'e'."
   ]
  },
  {
   "cell_type": "code",
   "execution_count": 17,
   "id": "dd8d5eba",
   "metadata": {},
   "outputs": [
    {
     "name": "stdout",
     "output_type": "stream",
     "text": [
      "t\n",
      "h\n",
      "e\n",
      "a\n",
      "s\n"
     ]
    }
   ],
   "source": [
    "# Example for continue:\n",
    "\n",
    "for val in 'thejas':\n",
    "    if val== 'j':\n",
    "        continue\n",
    "    print(val)"
   ]
  },
  {
   "cell_type": "markdown",
   "id": "a69656d5",
   "metadata": {},
   "source": [
    "- Here, continue terminates the current iteration of loop and continues with the remaining iteration of the loop once it find the character 'j'.\n",
    "- So, character 'j' is not present in the output"
   ]
  },
  {
   "cell_type": "markdown",
   "id": "5c708e51",
   "metadata": {},
   "source": [
    "### 11. In a for loop, what is the difference between range(10), range(0, 10), and range(0, 10, 1)?"
   ]
  },
  {
   "cell_type": "markdown",
   "id": "dc0b1c6f",
   "metadata": {},
   "source": [
    "**Solution:**"
   ]
  },
  {
   "cell_type": "code",
   "execution_count": 18,
   "id": "33c42da3",
   "metadata": {},
   "outputs": [
    {
     "name": "stdout",
     "output_type": "stream",
     "text": [
      "0\n",
      "1\n",
      "2\n",
      "3\n",
      "4\n",
      "5\n",
      "6\n",
      "7\n",
      "8\n",
      "9\n"
     ]
    }
   ],
   "source": [
    "# range(10)\n",
    "for i in range(10):\n",
    "    print(i)"
   ]
  },
  {
   "cell_type": "code",
   "execution_count": 19,
   "id": "ea1e36ba",
   "metadata": {},
   "outputs": [
    {
     "name": "stdout",
     "output_type": "stream",
     "text": [
      "0\n",
      "1\n",
      "2\n",
      "3\n",
      "4\n",
      "5\n",
      "6\n",
      "7\n",
      "8\n",
      "9\n"
     ]
    }
   ],
   "source": [
    "# range(0, 10)\n",
    "for i in range(0,10):\n",
    "    print(i)"
   ]
  },
  {
   "cell_type": "code",
   "execution_count": 20,
   "id": "c9a0c7a9",
   "metadata": {},
   "outputs": [
    {
     "name": "stdout",
     "output_type": "stream",
     "text": [
      "0\n",
      "1\n",
      "2\n",
      "3\n",
      "4\n",
      "5\n",
      "6\n",
      "7\n",
      "8\n",
      "9\n"
     ]
    }
   ],
   "source": [
    "# range(0, 10, 1)\n",
    "for i in range(0,10,1):\n",
    "    print(i)"
   ]
  },
  {
   "cell_type": "markdown",
   "id": "7e91c470",
   "metadata": {},
   "source": [
    "**Explaination:** \n",
    "    \n",
    "1. range(10) considers the values from 0 to 9.\n",
    "\n",
    "\n",
    "2. range(0, 10) condsiders the values between the range of minimum value 'zero' and maximum value '9'.\n",
    "\n",
    "\n",
    "3. range(0, 10, 1) condsiders the values between the range of minimum value 'zero' and maximum value '9' with increment of value '1'.\n",
    "\n",
    "\n",
    "- However, output remains same for all the above functions"
   ]
  },
  {
   "cell_type": "markdown",
   "id": "03d6e7a5",
   "metadata": {},
   "source": [
    "### 12. Write a short program that prints the numbers 1 to 10 using a for loop. Then write an equivalent program that prints the numbers 1 to 10 using a while loop. "
   ]
  },
  {
   "cell_type": "markdown",
   "id": "b4b6ba57",
   "metadata": {},
   "source": [
    "**Solution:**"
   ]
  },
  {
   "cell_type": "code",
   "execution_count": 21,
   "id": "dbe0e5d4",
   "metadata": {},
   "outputs": [
    {
     "name": "stdout",
     "output_type": "stream",
     "text": [
      "1\n",
      "2\n",
      "3\n",
      "4\n",
      "5\n",
      "6\n",
      "7\n",
      "8\n",
      "9\n",
      "10\n"
     ]
    }
   ],
   "source": [
    "# Using for loop\n",
    "\n",
    "for i in range(1,11):\n",
    "    print(i)"
   ]
  },
  {
   "cell_type": "code",
   "execution_count": 25,
   "id": "c1b60392",
   "metadata": {},
   "outputs": [
    {
     "name": "stdout",
     "output_type": "stream",
     "text": [
      "1\n",
      "2\n",
      "3\n",
      "4\n",
      "5\n",
      "6\n",
      "7\n",
      "8\n",
      "9\n",
      "10\n"
     ]
    }
   ],
   "source": [
    "# Using while loop\n",
    "\n",
    "a =1\n",
    "while a<=10:\n",
    "    print(a)\n",
    "    a+=1"
   ]
  },
  {
   "cell_type": "markdown",
   "id": "824607bb",
   "metadata": {},
   "source": [
    "### 13. If you had a function named bacon() inside a module named spam, how would you call it after importing spam?"
   ]
  },
  {
   "cell_type": "markdown",
   "id": "77d0a69f",
   "metadata": {},
   "source": [
    "**Solution**:  spam.bacon()"
   ]
  },
  {
   "cell_type": "markdown",
   "id": "178cd7a0",
   "metadata": {},
   "source": [
    "-------------------------------End of Assignment --------------------------------------------------------------------"
   ]
  }
 ],
 "metadata": {
  "kernelspec": {
   "display_name": "Python 3",
   "language": "python",
   "name": "python3"
  },
  "language_info": {
   "codemirror_mode": {
    "name": "ipython",
    "version": 3
   },
   "file_extension": ".py",
   "mimetype": "text/x-python",
   "name": "python",
   "nbconvert_exporter": "python",
   "pygments_lexer": "ipython3",
   "version": "3.8.8"
  }
 },
 "nbformat": 4,
 "nbformat_minor": 5
}
