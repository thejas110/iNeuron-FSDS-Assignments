{
 "cells": [
  {
   "cell_type": "markdown",
   "id": "45d6f9e1",
   "metadata": {},
   "source": [
    "<h2 style='color:skyblue' align='center'>iNeuron Full Stack Data Science Assignments</h2>\n",
    "<h3 style='color:brown' align='center'>Python Basic Assignment_9</h3>\n",
    "<h4 style='color:black' align='center'> Notebook Submitted By Thejas N on 18-Feb-22 </h4>"
   ]
  },
  {
   "cell_type": "markdown",
   "id": "b420d610",
   "metadata": {},
   "source": [
    "### 1. To what does a relative path refer?"
   ]
  },
  {
   "cell_type": "markdown",
   "id": "c4ba809e",
   "metadata": {},
   "source": [
    "**Solution:** "
   ]
  },
  {
   "cell_type": "markdown",
   "id": "2819bcc5",
   "metadata": {},
   "source": [
    "- A relative path is the path that is relative to the working directory location on the computer.\n",
    "\n",
    "- Example: If the working directory is test, then Python will start looking for the files in the test directory as shown in the below example"
   ]
  },
  {
   "cell_type": "markdown",
   "id": "51b861e1",
   "metadata": {},
   "source": [
    "**Example:** /data/bangalore/test.csv"
   ]
  },
  {
   "cell_type": "markdown",
   "id": "5a917012",
   "metadata": {},
   "source": [
    "### 2. What does an absolute path start with your operating system?"
   ]
  },
  {
   "cell_type": "markdown",
   "id": "be81c339",
   "metadata": {},
   "source": [
    "**Solution:**"
   ]
  },
  {
   "cell_type": "markdown",
   "id": "3c52d121",
   "metadata": {},
   "source": [
    "- An absolute path is a path that contains the entire path to the file or directory that we need to access. \n",
    "- This path will starts at the home directory of the computer and will end with the file or directory that we wish to access.\n",
    "- Absolute paths ensure that Python can find the exact file on the computer."
   ]
  },
  {
   "cell_type": "markdown",
   "id": "d0870fcd",
   "metadata": {},
   "source": [
    "**Example:** /home/username/test/data/bangalore/test.csv"
   ]
  },
  {
   "cell_type": "markdown",
   "id": "a1ed6fb2",
   "metadata": {},
   "source": [
    "### 3. What do the functions os.getcwd() and os.chdir() do?"
   ]
  },
  {
   "cell_type": "markdown",
   "id": "81b73a61",
   "metadata": {},
   "source": [
    "**Solution:** "
   ]
  },
  {
   "cell_type": "markdown",
   "id": "bbba2949",
   "metadata": {},
   "source": [
    " - **os.getcwd()** function help us to get the current working directory.\n",
    " \n",
    " - **os.chdir()** function help us to change the current working directory to the specified path"
   ]
  },
  {
   "cell_type": "markdown",
   "id": "1e34968b",
   "metadata": {},
   "source": [
    "### 4. What are the . and .. folders?"
   ]
  },
  {
   "cell_type": "markdown",
   "id": "3f932a96",
   "metadata": {},
   "source": [
    "**Solution:**"
   ]
  },
  {
   "cell_type": "markdown",
   "id": "06437ea6",
   "metadata": {},
   "source": [
    "- '.' represents the current directory.\n",
    "\n",
    "- '..' represents parent directory of the current directory.\n",
    "\n",
    "- Eg: If the absolute path is ' /home/username/test/data/bangalore' , '.' means the absolute path itself and '..' means '/home/username/test/data'"
   ]
  },
  {
   "cell_type": "markdown",
   "id": "44feecd6",
   "metadata": {},
   "source": [
    "### 5. In C:\\bacon\\eggs\\spam.txt, which part is the dir name, and which part is the base name?"
   ]
  },
  {
   "cell_type": "markdown",
   "id": "818f5946",
   "metadata": {},
   "source": [
    "**Solution**:\n"
   ]
  },
  {
   "cell_type": "markdown",
   "id": "9e635a48",
   "metadata": {},
   "source": [
    "-  'C:\\bacon\\eggs' is the dir name\n",
    "\n",
    "- 'spam.txt' is the base name"
   ]
  },
  {
   "cell_type": "markdown",
   "id": "6b2fffeb",
   "metadata": {},
   "source": [
    "### 6. What are the three “mode” arguments that can be passed to the open() function?"
   ]
  },
  {
   "cell_type": "markdown",
   "id": "f4a1c4ec",
   "metadata": {},
   "source": [
    "**Solution:**"
   ]
  },
  {
   "cell_type": "markdown",
   "id": "c022c24b",
   "metadata": {},
   "source": [
    "- **r:** Opens the file in read-only mode. Starts reading from the beginning of the file and is the default mode for the open() function.\n",
    "- **rb:** Opens the file as read-only in binary format and starts reading from the beginning of the file. While binary format can be used for different purposes, it is usually used when dealing with things like images, videos, etc.\n",
    "- **r+:** Opens a file for reading and writing, placing the pointer at the beginning of the file.\n",
    "- **w:** Opens in write-only mode. The pointer is placed at the beginning of the file and this will overwrite any existing file with the same name. It will create a new file if one with the same name doesn't exist.\n",
    "- **wb:** Opens a write-only file in binary mode.\n",
    "- **w+:** Opens a file for writing and reading.\n",
    "- **wb+:** Opens a file for writing and reading in binary mode.\n",
    "- **a:** Opens a file for appending new information to it. The pointer is placed at the end of the file. A new file is created if one with the same name doesn't exist.\n",
    "- **ab:** Opens a file for appending in binary mode.\n",
    "- **a+:** Opens a file for both appending and reading.\n",
    "- **ab+:** Opens a file for both appending and reading in binary mode."
   ]
  },
  {
   "cell_type": "markdown",
   "id": "f6686a6b",
   "metadata": {},
   "source": [
    "### 7. What happens if an existing file is opened in write mode?"
   ]
  },
  {
   "cell_type": "markdown",
   "id": "cb60915c",
   "metadata": {},
   "source": [
    "**Solution:**"
   ]
  },
  {
   "cell_type": "markdown",
   "id": "72a231f6",
   "metadata": {},
   "source": [
    "- If an existing file is opened in write mode Python, the pointer is placed at the beginning of the file and this will overwrite any existing file with the same name. It will create a new file if one with the same name doesn't exist."
   ]
  },
  {
   "cell_type": "markdown",
   "id": "afc68c6c",
   "metadata": {},
   "source": [
    "### 8. How do you tell the difference between read() and readlines()?"
   ]
  },
  {
   "cell_type": "markdown",
   "id": "9ee0d87b",
   "metadata": {},
   "source": [
    "**Solution:**\n",
    "\n",
    "- **read()** will read the whole file at once and then print out the first characters that take up as many bytes as we specify in the parenthesis \n",
    "\n",
    "- **readline()**  will read and print out only the first characters that take up as many bytes as we specify in the parenthesis"
   ]
  },
  {
   "cell_type": "markdown",
   "id": "2e4d05da",
   "metadata": {},
   "source": [
    "### 9. What data structure does a shelf value resemble?"
   ]
  },
  {
   "cell_type": "markdown",
   "id": "c0bdad7a",
   "metadata": {},
   "source": [
    "**Solution:**"
   ]
  },
  {
   "cell_type": "markdown",
   "id": "98920d3f",
   "metadata": {},
   "source": [
    "- A shelf value resembles a dictionary, i.e., it has keys and values."
   ]
  },
  {
   "cell_type": "markdown",
   "id": "178cd7a0",
   "metadata": {},
   "source": [
    "-------------------------------------End of Assignment---------------------------------------------------------------------"
   ]
  }
 ],
 "metadata": {
  "kernelspec": {
   "display_name": "Python 3",
   "language": "python",
   "name": "python3"
  },
  "language_info": {
   "codemirror_mode": {
    "name": "ipython",
    "version": 3
   },
   "file_extension": ".py",
   "mimetype": "text/x-python",
   "name": "python",
   "nbconvert_exporter": "python",
   "pygments_lexer": "ipython3",
   "version": "3.8.8"
  }
 },
 "nbformat": 4,
 "nbformat_minor": 5
}
