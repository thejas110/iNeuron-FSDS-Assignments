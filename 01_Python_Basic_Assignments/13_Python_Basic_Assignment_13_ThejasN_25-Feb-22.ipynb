{
 "cells": [
  {
   "cell_type": "markdown",
   "id": "45d6f9e1",
   "metadata": {},
   "source": [
    "<h2 style='color:skyblue' align='center'>iNeuron Full Stack Data Science Assignments</h2>\n",
    "<h3 style='color:brown' align='center'>Python Basic Assignment_13</h3>\n",
    "<h4 style='color:black' align='center'> Notebook Submitted By Thejas N on 25-Feb-22 </h4>"
   ]
  },
  {
   "cell_type": "markdown",
   "id": "b420d610",
   "metadata": {},
   "source": [
    "### 1. What advantages do Excel spreadsheets have over CSV spreadsheets?"
   ]
  },
  {
   "cell_type": "markdown",
   "id": "c4ba809e",
   "metadata": {},
   "source": [
    "**Solution:** \n",
    "\n",
    "- An Excel spreadsheet not only stores data but can also do operations on the data, whereas a CSV spreadsheet is just a text file which stores data but does not contain formatting, formulas, macros, etc.\n",
    "\n",
    "\n",
    "- Reading large files is much easier in Excel for the end user. Whereas reading large files in CSV will not be as easier as Excel for end user."
   ]
  },
  {
   "cell_type": "markdown",
   "id": "5a917012",
   "metadata": {},
   "source": [
    "### 2.What do you pass to csv.reader() and csv.writer() to create reader and writer objects?"
   ]
  },
  {
   "cell_type": "markdown",
   "id": "d17c2a31",
   "metadata": {},
   "source": [
    "**Solution:**\n",
    "\n",
    "- We need to pass a **File Object** to csv.reader() and csv.writer() to create reader and writer objects. "
   ]
  },
  {
   "cell_type": "markdown",
   "id": "a1ed6fb2",
   "metadata": {},
   "source": [
    "### 3. What modes do File objects for reader and writer objects need to be opened in?"
   ]
  },
  {
   "cell_type": "markdown",
   "id": "81b73a61",
   "metadata": {},
   "source": [
    "**Solution:** "
   ]
  },
  {
   "cell_type": "markdown",
   "id": "c8fae989",
   "metadata": {},
   "source": [
    "- File objects need to be opened in **read-binary ('rb')** mode for Reader objects and **write-binary ('wb')** for Writer objects"
   ]
  },
  {
   "cell_type": "markdown",
   "id": "1e34968b",
   "metadata": {},
   "source": [
    "### 4. What method takes a list argument and writes it to a CSV file?"
   ]
  },
  {
   "cell_type": "markdown",
   "id": "3f932a96",
   "metadata": {},
   "source": [
    "**Solution:**\n",
    "\n",
    "- The **writerow()** method takes a list argument and writes it to a CSV file?"
   ]
  },
  {
   "cell_type": "markdown",
   "id": "44feecd6",
   "metadata": {},
   "source": [
    "### 5. What do the keyword arguments delimiter and line terminator do?"
   ]
  },
  {
   "cell_type": "markdown",
   "id": "818f5946",
   "metadata": {},
   "source": [
    "**Solution**:\n",
    "\n",
    "- The **delimiter** argument changes the string used to separate cells in a row. \n",
    "\n",
    "- The **line terminator** argument changes the string used to separate rows."
   ]
  },
  {
   "cell_type": "markdown",
   "id": "1c431930",
   "metadata": {},
   "source": [
    "### 6. What function takes a string of JSON data and returns a Python data structure?"
   ]
  },
  {
   "cell_type": "markdown",
   "id": "2a157c4e",
   "metadata": {},
   "source": [
    "**Solution:**\n",
    "\n",
    "- **json.loads()** takes a string of JSON data and returns a Python data structure."
   ]
  },
  {
   "cell_type": "markdown",
   "id": "aa0dea50",
   "metadata": {},
   "source": [
    "### 7. What function takes a Python data structure and returns a string of JSON data?"
   ]
  },
  {
   "cell_type": "markdown",
   "id": "14a0307d",
   "metadata": {},
   "source": [
    "**Solution:**"
   ]
  },
  {
   "cell_type": "markdown",
   "id": "4e1730f6",
   "metadata": {},
   "source": [
    "- **json.dumps()** takes a Python data structure and returns a string of JSON data."
   ]
  },
  {
   "cell_type": "markdown",
   "id": "178cd7a0",
   "metadata": {},
   "source": [
    "-------------------------------------End of Assignment---------------------------------------------------------------------"
   ]
  }
 ],
 "metadata": {
  "kernelspec": {
   "display_name": "Python 3",
   "language": "python",
   "name": "python3"
  },
  "language_info": {
   "codemirror_mode": {
    "name": "ipython",
    "version": 3
   },
   "file_extension": ".py",
   "mimetype": "text/x-python",
   "name": "python",
   "nbconvert_exporter": "python",
   "pygments_lexer": "ipython3",
   "version": "3.8.8"
  }
 },
 "nbformat": 4,
 "nbformat_minor": 5
}
