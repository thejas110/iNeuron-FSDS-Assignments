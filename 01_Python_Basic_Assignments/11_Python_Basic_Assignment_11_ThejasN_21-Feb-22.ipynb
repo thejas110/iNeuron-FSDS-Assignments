{
 "cells": [
  {
   "cell_type": "markdown",
   "id": "45d6f9e1",
   "metadata": {},
   "source": [
    "<h2 style='color:skyblue' align='center'>iNeuron Full Stack Data Science Assignments</h2>\n",
    "<h3 style='color:brown' align='center'>Python Basic Assignment_11</h3>\n",
    "<h4 style='color:black' align='center'> Notebook Submitted By Thejas N on 21-Feb-22 </h4>"
   ]
  },
  {
   "cell_type": "markdown",
   "id": "b420d610",
   "metadata": {},
   "source": [
    "### 1. Create an assert statement that throws an AssertionError if the variable spam is a negative integer."
   ]
  },
  {
   "cell_type": "markdown",
   "id": "c4ba809e",
   "metadata": {},
   "source": [
    "**Solution:** "
   ]
  },
  {
   "cell_type": "code",
   "execution_count": 1,
   "id": "bbf64e30",
   "metadata": {},
   "outputs": [
    {
     "ename": "AssertionError",
     "evalue": "Invalid Condition",
     "output_type": "error",
     "traceback": [
      "\u001b[1;31m---------------------------------------------------------------------------\u001b[0m",
      "\u001b[1;31mAssertionError\u001b[0m                            Traceback (most recent call last)",
      "\u001b[1;32m<ipython-input-1-69825f68966b>\u001b[0m in \u001b[0;36m<module>\u001b[1;34m\u001b[0m\n\u001b[0;32m      1\u001b[0m \u001b[0mspam\u001b[0m \u001b[1;33m=\u001b[0m \u001b[1;33m-\u001b[0m\u001b[1;36m1\u001b[0m\u001b[1;33m\u001b[0m\u001b[1;33m\u001b[0m\u001b[0m\n\u001b[1;32m----> 2\u001b[1;33m \u001b[1;32massert\u001b[0m \u001b[0mspam\u001b[0m \u001b[1;33m!=\u001b[0m \u001b[1;33m-\u001b[0m\u001b[1;36m1\u001b[0m\u001b[1;33m,\u001b[0m \u001b[1;34m\"Invalid Condition\"\u001b[0m \u001b[1;31m# spam is equal to - 1\u001b[0m\u001b[1;33m\u001b[0m\u001b[1;33m\u001b[0m\u001b[0m\n\u001b[0m\u001b[0;32m      3\u001b[0m \u001b[0mprint\u001b[0m\u001b[1;33m(\u001b[0m\u001b[0mspam\u001b[0m\u001b[1;33m)\u001b[0m\u001b[1;33m\u001b[0m\u001b[1;33m\u001b[0m\u001b[0m\n",
      "\u001b[1;31mAssertionError\u001b[0m: Invalid Condition"
     ]
    }
   ],
   "source": [
    "spam = -1\n",
    "assert spam != -1, \"Invalid Condition\" # spam is equal to - 1\n",
    "print(spam)"
   ]
  },
  {
   "cell_type": "markdown",
   "id": "cbaa387e",
   "metadata": {},
   "source": [
    "- An assertion is a sanity check to make sure the code is not doing something obviously wrong. These sanity checks are performed by assert statements. If the sanity check fails, then an AssertionError exception is raised. "
   ]
  },
  {
   "cell_type": "markdown",
   "id": "5a917012",
   "metadata": {},
   "source": [
    "### 2. Write an assert statement that triggers an AssertionError if the variables eggs and bacon contain strings that are the same as each other, even if their cases are different (that is, 'hello' and 'hello' are considered the same, and 'goodbye' and 'GOODbye' are also considered the same)."
   ]
  },
  {
   "cell_type": "markdown",
   "id": "be81c339",
   "metadata": {},
   "source": [
    "**Solution:** "
   ]
  },
  {
   "cell_type": "code",
   "execution_count": 2,
   "id": "c78a08e9",
   "metadata": {},
   "outputs": [
    {
     "ename": "AssertionError",
     "evalue": "The eggs and bacon variables contain the strings that are the same as each other.",
     "output_type": "error",
     "traceback": [
      "\u001b[1;31m---------------------------------------------------------------------------\u001b[0m",
      "\u001b[1;31mAssertionError\u001b[0m                            Traceback (most recent call last)",
      "\u001b[1;32m<ipython-input-2-8e16dc2d3ad5>\u001b[0m in \u001b[0;36m<module>\u001b[1;34m\u001b[0m\n\u001b[0;32m      1\u001b[0m \u001b[0meggs\u001b[0m \u001b[1;33m=\u001b[0m \u001b[1;34m'hello'\u001b[0m\u001b[1;33m\u001b[0m\u001b[1;33m\u001b[0m\u001b[0m\n\u001b[0;32m      2\u001b[0m \u001b[0mbacon\u001b[0m \u001b[1;33m=\u001b[0m \u001b[1;34m'hello'\u001b[0m\u001b[1;33m\u001b[0m\u001b[1;33m\u001b[0m\u001b[0m\n\u001b[1;32m----> 3\u001b[1;33m \u001b[1;32massert\u001b[0m \u001b[0meggs\u001b[0m\u001b[1;33m.\u001b[0m\u001b[0mlower\u001b[0m\u001b[1;33m(\u001b[0m\u001b[1;33m)\u001b[0m \u001b[1;33m!=\u001b[0m \u001b[0mbacon\u001b[0m\u001b[1;33m.\u001b[0m\u001b[0mlower\u001b[0m\u001b[1;33m(\u001b[0m\u001b[1;33m)\u001b[0m\u001b[1;33m,\u001b[0m \u001b[1;34m'The eggs and bacon variables contain the strings that are the same as each other.'\u001b[0m\u001b[1;33m\u001b[0m\u001b[1;33m\u001b[0m\u001b[0m\n\u001b[0m",
      "\u001b[1;31mAssertionError\u001b[0m: The eggs and bacon variables contain the strings that are the same as each other."
     ]
    }
   ],
   "source": [
    "eggs = 'hello'\n",
    "bacon = 'hello'\n",
    "assert eggs.lower() != bacon.lower(), 'The eggs and bacon variables contain the strings that are the same as each other.'"
   ]
  },
  {
   "cell_type": "code",
   "execution_count": 3,
   "id": "6e6d8c78",
   "metadata": {},
   "outputs": [
    {
     "ename": "AssertionError",
     "evalue": "The eggs and bacon variables contain the strings that are the same as each other.",
     "output_type": "error",
     "traceback": [
      "\u001b[1;31m---------------------------------------------------------------------------\u001b[0m",
      "\u001b[1;31mAssertionError\u001b[0m                            Traceback (most recent call last)",
      "\u001b[1;32m<ipython-input-3-9d67e934b439>\u001b[0m in \u001b[0;36m<module>\u001b[1;34m\u001b[0m\n\u001b[0;32m      1\u001b[0m \u001b[0meggs\u001b[0m \u001b[1;33m=\u001b[0m \u001b[1;34m'goodbye'\u001b[0m\u001b[1;33m\u001b[0m\u001b[1;33m\u001b[0m\u001b[0m\n\u001b[0;32m      2\u001b[0m \u001b[0mbacon\u001b[0m \u001b[1;33m=\u001b[0m \u001b[1;34m'GOODbye'\u001b[0m\u001b[1;33m\u001b[0m\u001b[1;33m\u001b[0m\u001b[0m\n\u001b[1;32m----> 3\u001b[1;33m \u001b[1;32massert\u001b[0m \u001b[0meggs\u001b[0m\u001b[1;33m.\u001b[0m\u001b[0mlower\u001b[0m\u001b[1;33m(\u001b[0m\u001b[1;33m)\u001b[0m \u001b[1;33m!=\u001b[0m \u001b[0mbacon\u001b[0m\u001b[1;33m.\u001b[0m\u001b[0mlower\u001b[0m\u001b[1;33m(\u001b[0m\u001b[1;33m)\u001b[0m\u001b[1;33m,\u001b[0m \u001b[1;34m'The eggs and bacon variables contain the strings that are the same as each other.'\u001b[0m\u001b[1;33m\u001b[0m\u001b[1;33m\u001b[0m\u001b[0m\n\u001b[0m",
      "\u001b[1;31mAssertionError\u001b[0m: The eggs and bacon variables contain the strings that are the same as each other."
     ]
    }
   ],
   "source": [
    "eggs = 'goodbye'\n",
    "bacon = 'GOODbye'\n",
    "assert eggs.lower() != bacon.lower(), 'The eggs and bacon variables contain the strings that are the same as each other.'"
   ]
  },
  {
   "cell_type": "markdown",
   "id": "a1ed6fb2",
   "metadata": {},
   "source": [
    "### 3. Create an assert statement that throws an AssertionError every time."
   ]
  },
  {
   "cell_type": "markdown",
   "id": "81b73a61",
   "metadata": {},
   "source": [
    "**Solution:** "
   ]
  },
  {
   "cell_type": "code",
   "execution_count": 4,
   "id": "df39f823",
   "metadata": {},
   "outputs": [
    {
     "ename": "AssertionError",
     "evalue": "assert statement that throws an AssertionError every time.",
     "output_type": "error",
     "traceback": [
      "\u001b[1;31m---------------------------------------------------------------------------\u001b[0m",
      "\u001b[1;31mAssertionError\u001b[0m                            Traceback (most recent call last)",
      "\u001b[1;32m<ipython-input-4-4274f710c61a>\u001b[0m in \u001b[0;36m<module>\u001b[1;34m\u001b[0m\n\u001b[1;32m----> 1\u001b[1;33m \u001b[1;32massert\u001b[0m \u001b[1;36m1\u001b[0m \u001b[1;33m!=\u001b[0m \u001b[1;36m1\u001b[0m \u001b[1;33m,\u001b[0m \u001b[1;34m'assert statement that throws an AssertionError every time.'\u001b[0m\u001b[1;33m\u001b[0m\u001b[1;33m\u001b[0m\u001b[0m\n\u001b[0m",
      "\u001b[1;31mAssertionError\u001b[0m: assert statement that throws an AssertionError every time."
     ]
    }
   ],
   "source": [
    "assert 1 != 1 , 'assert statement that throws an AssertionError every time.'"
   ]
  },
  {
   "cell_type": "markdown",
   "id": "1e34968b",
   "metadata": {},
   "source": [
    "### 4. What are the two lines that must be present in your software in order to call logging.debug()?"
   ]
  },
  {
   "cell_type": "markdown",
   "id": "3f932a96",
   "metadata": {},
   "source": [
    "**Solution:**"
   ]
  },
  {
   "cell_type": "code",
   "execution_count": 6,
   "id": "6ab3e7fa",
   "metadata": {},
   "outputs": [],
   "source": [
    "import logging\n",
    "logging.basicConfig(level=logging.DEBUG)"
   ]
  },
  {
   "cell_type": "markdown",
   "id": "44feecd6",
   "metadata": {},
   "source": [
    "### 5. What are the two lines that your program must have in order to have logging.debug() send a logging message to a file named programLog.txt?"
   ]
  },
  {
   "cell_type": "markdown",
   "id": "818f5946",
   "metadata": {},
   "source": [
    "**Solution**:\n"
   ]
  },
  {
   "cell_type": "code",
   "execution_count": 7,
   "id": "0e5d8236",
   "metadata": {},
   "outputs": [],
   "source": [
    "import logging \n",
    "logging.basicConfig(filename='programLog.txt', level=logging.DEBUG, format=' %(asctime)s - %(levelname)s - %(message)s')"
   ]
  },
  {
   "cell_type": "markdown",
   "id": "1c431930",
   "metadata": {},
   "source": [
    "### 6. What are the five levels of logging?"
   ]
  },
  {
   "cell_type": "markdown",
   "id": "96c994fb",
   "metadata": {},
   "source": [
    "**Solution:**"
   ]
  },
  {
   "cell_type": "markdown",
   "id": "673ecc51",
   "metadata": {},
   "source": [
    "- The five levels of logging are\n",
    "\n",
    "    - **DEBUG - logging.debug():** The lowest level and its useful for diagnosing problems.\n",
    "     \n",
    "    - **INFO - logging.info():** Used to record generic information in the program. \n",
    "    \n",
    "    - **WARNING - logging.warning():** Used to indicate a problem that does not prevent the program from working but might cause problem in the future.\n",
    "      \n",
    "    - **ERROR - logging.error():** Used to record an error that caused the program to stop executing.\n",
    "     \n",
    "    - **CRITICAL - logging.critical():** The highest level and it indicates a fatal error that has caused or is about to cause the program to stop running entirely."
   ]
  },
  {
   "cell_type": "markdown",
   "id": "aa0dea50",
   "metadata": {},
   "source": [
    "### 7. What line of code would you add to your software to disable all logging messages?"
   ]
  },
  {
   "cell_type": "markdown",
   "id": "1d602d70",
   "metadata": {},
   "source": [
    "**Solution:**"
   ]
  },
  {
   "cell_type": "code",
   "execution_count": 8,
   "id": "b47d7f12",
   "metadata": {},
   "outputs": [],
   "source": [
    "logging.disable(level=50)\n",
    "# Disable all logging calls of severity 'level' and below."
   ]
  },
  {
   "cell_type": "markdown",
   "id": "8b7cfeed",
   "metadata": {},
   "source": [
    "### 8.Why is using logging messages better than using print() to display the same message?"
   ]
  },
  {
   "cell_type": "markdown",
   "id": "950c3622",
   "metadata": {},
   "source": [
    "**Solution:**"
   ]
  },
  {
   "cell_type": "markdown",
   "id": "66b3ebee",
   "metadata": {},
   "source": [
    "- If we use **print()** function, during debugging we will end up spending a lot of time removing print() calls from the code for each log message. We might even accidentally remove some print() calls that were being used for nonlog messages. \n",
    "\n",
    "\n",
    "- if we use **log messages**, we are free to fill the program with log messagesas many as we like, and we can always disable them later by adding a single logging.disable(level=50). We can switch between showing and hiding log messages using logging module.\n",
    "\n",
    "\n",
    "- Hence, logging messages are better than using print() to display the same message"
   ]
  },
  {
   "cell_type": "markdown",
   "id": "dbc375d5",
   "metadata": {},
   "source": [
    "### 9. What are the differences between the Step Over, Step In, and Step Out buttons in the debugger?"
   ]
  },
  {
   "cell_type": "markdown",
   "id": "1b4bd1eb",
   "metadata": {},
   "source": [
    "**Solution:**"
   ]
  },
  {
   "cell_type": "markdown",
   "id": "1b91633f",
   "metadata": {},
   "source": [
    "**Step In** - Clicking the Step button will cause the debugger to execute the next line of code and then pause again. The Debug Control window’s list of global and local variables will be updated if their values change. If the next line of \n",
    "code is a function call, the debugger will “step into” that function and jump to the first line of code of that function.\n",
    "\n",
    "\n",
    "**Step Over** - Clicking the Over button will execute the next line of code, similar to the Step button. However, if the next line of code is a function call, the Over button will 'step over' the code in the function. The function's code will be executed at full speed, and the debugger will pause as soon as the function call returns. \n",
    "\n",
    "**Step Out** - Clicking the Out button will cause the debugger to execute lines of code at full speed until it returns from the current function. If you have stepped into a function call with the Step button and now simply want to keep executing instructions until you get back out, click the Out button to 'step out' of the current function call."
   ]
  },
  {
   "cell_type": "markdown",
   "id": "a726af5d",
   "metadata": {},
   "source": [
    "### 10. After you click Continue, when will the debugger stop?"
   ]
  },
  {
   "cell_type": "markdown",
   "id": "ecf1ffa8",
   "metadata": {},
   "source": [
    "**Solution:**"
   ]
  },
  {
   "cell_type": "markdown",
   "id": "0b7da579",
   "metadata": {},
   "source": [
    "- After clicking Continue button, the debugger will cause the program to execute normally until it terminates or reaches a breakpoint."
   ]
  },
  {
   "cell_type": "markdown",
   "id": "e832a818",
   "metadata": {},
   "source": [
    "### 11. What is the concept of a breakpoint?"
   ]
  },
  {
   "cell_type": "markdown",
   "id": "87407f6b",
   "metadata": {},
   "source": [
    "**Solution:**"
   ]
  },
  {
   "cell_type": "markdown",
   "id": "bc773a77",
   "metadata": {},
   "source": [
    "- A breakpoint can be set on a specific line of code and forces the debugger to pause whenever the program execution reaches that line."
   ]
  },
  {
   "cell_type": "markdown",
   "id": "178cd7a0",
   "metadata": {},
   "source": [
    "-------------------------------------End of Assignment---------------------------------------------------------------------"
   ]
  }
 ],
 "metadata": {
  "kernelspec": {
   "display_name": "Python 3",
   "language": "python",
   "name": "python3"
  },
  "language_info": {
   "codemirror_mode": {
    "name": "ipython",
    "version": 3
   },
   "file_extension": ".py",
   "mimetype": "text/x-python",
   "name": "python",
   "nbconvert_exporter": "python",
   "pygments_lexer": "ipython3",
   "version": "3.8.8"
  }
 },
 "nbformat": 4,
 "nbformat_minor": 5
}
