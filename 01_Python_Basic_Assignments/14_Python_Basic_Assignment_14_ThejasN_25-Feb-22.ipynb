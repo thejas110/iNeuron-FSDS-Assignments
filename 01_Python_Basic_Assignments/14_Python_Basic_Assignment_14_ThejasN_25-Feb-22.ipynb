{
 "cells": [
  {
   "cell_type": "markdown",
   "id": "45d6f9e1",
   "metadata": {},
   "source": [
    "<h2 style='color:skyblue' align='center'>iNeuron Full Stack Data Science Assignments</h2>\n",
    "<h3 style='color:brown' align='center'>Python Basic Assignment_14</h3>\n",
    "<h4 style='color:black' align='center'> Notebook Submitted By Thejas N on 25-Feb-22 </h4>"
   ]
  },
  {
   "cell_type": "markdown",
   "id": "b420d610",
   "metadata": {},
   "source": [
    "### 1. What does RGBA stand for?"
   ]
  },
  {
   "cell_type": "markdown",
   "id": "c4ba809e",
   "metadata": {},
   "source": [
    "**Solution:** \n",
    "\n",
    "- RGBA stands for **Red-Green-Blue-Alpha**."
   ]
  },
  {
   "cell_type": "markdown",
   "id": "5a917012",
   "metadata": {},
   "source": [
    "### 2. From the Pillow module, how do you get the RGBA value of any images?"
   ]
  },
  {
   "cell_type": "markdown",
   "id": "d17c2a31",
   "metadata": {},
   "source": [
    "**Solution:**"
   ]
  },
  {
   "cell_type": "markdown",
   "id": "05887a34",
   "metadata": {},
   "source": [
    "By calling **getpixel()** function from pillow module, we can get the RGBA value of any images."
   ]
  },
  {
   "cell_type": "markdown",
   "id": "a1ed6fb2",
   "metadata": {},
   "source": [
    "### 3. What is a box tuple, and how does it work?"
   ]
  },
  {
   "cell_type": "markdown",
   "id": "81b73a61",
   "metadata": {},
   "source": [
    "**Solution:** \n",
    "- A box tuple is a tuple value of four integers: \n",
    "\n",
    "    - Left: The x-coordinate of the leftmost edge of the box.\n",
    "    - Top: The y-coordinate of the top edge of the box.\n",
    "    - Right: The x-coordinate of one pixel to the right of the rightmost edge of the box. This integer must be greater than the left integer.\n",
    "    - Bottom: The y-coordinate of one pixel lower than the bottom edge of the box. This integer must be greater than the top integer.\n",
    "    \n",
    "- Box includes the left and top coordinates and goes up but does not include the right and bottom coordinates. "
   ]
  },
  {
   "cell_type": "markdown",
   "id": "1e34968b",
   "metadata": {},
   "source": [
    "### 4. Use your image and load in notebook then, How can you find out the width and height of an Image object?"
   ]
  },
  {
   "cell_type": "markdown",
   "id": "3f932a96",
   "metadata": {},
   "source": [
    "**Solution:**\n",
    "\n"
   ]
  },
  {
   "cell_type": "code",
   "execution_count": 6,
   "id": "bb02c482",
   "metadata": {},
   "outputs": [],
   "source": [
    "from PIL import Image"
   ]
  },
  {
   "cell_type": "code",
   "execution_count": 7,
   "id": "7ed4ea07",
   "metadata": {},
   "outputs": [],
   "source": [
    "test_img = Image.open('Test.PNG')"
   ]
  },
  {
   "cell_type": "code",
   "execution_count": 9,
   "id": "a60d16ce",
   "metadata": {},
   "outputs": [],
   "source": [
    "width, height = test_img.size"
   ]
  },
  {
   "cell_type": "code",
   "execution_count": 11,
   "id": "4a620e05",
   "metadata": {},
   "outputs": [
    {
     "name": "stdout",
     "output_type": "stream",
     "text": [
      "width of image is 287\n",
      "height of image is 119\n"
     ]
    }
   ],
   "source": [
    "print('width of image is',width)\n",
    "print('height of image is',height)"
   ]
  },
  {
   "cell_type": "markdown",
   "id": "44feecd6",
   "metadata": {},
   "source": [
    "### 5. What method would you call to get Image object for a 100×100 image, excluding the lower-left quarter of it?"
   ]
  },
  {
   "cell_type": "markdown",
   "id": "818f5946",
   "metadata": {},
   "source": [
    "**Solution**:\n",
    "- **crop()** method is used to get Image object for a 100×100 image, excluding the lower-left quarter of it."
   ]
  },
  {
   "cell_type": "markdown",
   "id": "1c431930",
   "metadata": {},
   "source": [
    "### 6. After making changes to an Image object, how could you save it as an image file?"
   ]
  },
  {
   "cell_type": "markdown",
   "id": "2a157c4e",
   "metadata": {},
   "source": [
    "**Solution:**"
   ]
  },
  {
   "cell_type": "markdown",
   "id": "ac4a64e8",
   "metadata": {},
   "source": [
    "- After making changes to an Image object,we can save it as an image file using **save()** method"
   ]
  },
  {
   "cell_type": "markdown",
   "id": "aa0dea50",
   "metadata": {},
   "source": [
    "### 7. What module contains Pillow’s shape-drawing code?"
   ]
  },
  {
   "cell_type": "markdown",
   "id": "14a0307d",
   "metadata": {},
   "source": [
    "**Solution:**"
   ]
  },
  {
   "cell_type": "markdown",
   "id": "e34ad877",
   "metadata": {},
   "source": [
    "**ImageDraw** module contains Pillow’s shape-drawing code "
   ]
  },
  {
   "cell_type": "markdown",
   "id": "4dda8ddc",
   "metadata": {},
   "source": [
    "### 8. Image objects do not have drawing methods. What kind of object does? How do you get this kind of object?"
   ]
  },
  {
   "cell_type": "markdown",
   "id": "b79fbc16",
   "metadata": {},
   "source": [
    "**Solution:**\n",
    "\n",
    "- Image objects do not have drawing methods.ImageDraw objects have drawing methods. They are returned by passing the Image object to the ImageDraw.Draw() function."
   ]
  },
  {
   "cell_type": "markdown",
   "id": "178cd7a0",
   "metadata": {},
   "source": [
    "-------------------------------------End of Assignment---------------------------------------------------------------------"
   ]
  }
 ],
 "metadata": {
  "kernelspec": {
   "display_name": "Python 3",
   "language": "python",
   "name": "python3"
  },
  "language_info": {
   "codemirror_mode": {
    "name": "ipython",
    "version": 3
   },
   "file_extension": ".py",
   "mimetype": "text/x-python",
   "name": "python",
   "nbconvert_exporter": "python",
   "pygments_lexer": "ipython3",
   "version": "3.8.8"
  }
 },
 "nbformat": 4,
 "nbformat_minor": 5
}
