{
 "cells": [
  {
   "cell_type": "markdown",
   "id": "45d6f9e1",
   "metadata": {},
   "source": [
    "<h2 style='color:skyblue' align='center'>iNeuron Full Stack Data Science Assignments</h2>\n",
    "<h3 style='color:brown' align='center'>Python Basic Assignment_12</h3>\n",
    "<h4 style='color:black' align='center'> Notebook Submitted By Thejas N on 25-Feb-22 </h4>"
   ]
  },
  {
   "cell_type": "markdown",
   "id": "b420d610",
   "metadata": {},
   "source": [
    "### 1. In what modes should the PdfFileReader() and PdfFileWriter() File objects will be opened?"
   ]
  },
  {
   "cell_type": "markdown",
   "id": "c4ba809e",
   "metadata": {},
   "source": [
    "**Solution:** "
   ]
  },
  {
   "cell_type": "markdown",
   "id": "a39080c6",
   "metadata": {},
   "source": [
    "- **PdfFileReader()** file object needs to be opened in read-binary mode by passing 'rb' as the second argument to open() fumction. \n",
    "\n",
    "- **PdfFileWriter()** file object needs to be opened in write-binary mode by passing 'wb' as the second arguement to open() function."
   ]
  },
  {
   "cell_type": "markdown",
   "id": "5a917012",
   "metadata": {},
   "source": [
    "### 2. From a PdfFileReader object, how do you get a Page object for page 5?"
   ]
  },
  {
   "cell_type": "markdown",
   "id": "be81c339",
   "metadata": {},
   "source": [
    "**Solution:** "
   ]
  },
  {
   "cell_type": "markdown",
   "id": "418eb5cc",
   "metadata": {},
   "source": [
    "- From a PdfFileReader object, we can get the page object for page 5 by calling **getPage(0)** function."
   ]
  },
  {
   "cell_type": "markdown",
   "id": "a1ed6fb2",
   "metadata": {},
   "source": [
    "### 3. What PdfFileReader variable stores the number of pages in the PDF document?"
   ]
  },
  {
   "cell_type": "markdown",
   "id": "81b73a61",
   "metadata": {},
   "source": [
    "**Solution:** "
   ]
  },
  {
   "cell_type": "markdown",
   "id": "e93db0be",
   "metadata": {},
   "source": [
    "- The number of pages in the PDF document is stored in the **numPages** variable of a PdfFileReader object"
   ]
  },
  {
   "cell_type": "markdown",
   "id": "1e34968b",
   "metadata": {},
   "source": [
    "### 4. If a PdfFileReader object’s PDF is encrypted with the password swordfish, what must you do before you can obtain Page objects from it?"
   ]
  },
  {
   "cell_type": "markdown",
   "id": "3f932a96",
   "metadata": {},
   "source": [
    "**Solution:**"
   ]
  },
  {
   "cell_type": "markdown",
   "id": "cb14063b",
   "metadata": {},
   "source": [
    "- If a pdfFileReader object's PDF is encrypted, call the **decrypt()** function and pass the password swordfish as a string. Next, obtain the page objects from it using getPage() function."
   ]
  },
  {
   "cell_type": "markdown",
   "id": "44feecd6",
   "metadata": {},
   "source": [
    "### 5. What methods do you use to rotate a page?"
   ]
  },
  {
   "cell_type": "markdown",
   "id": "818f5946",
   "metadata": {},
   "source": [
    "**Solution**:\n"
   ]
  },
  {
   "cell_type": "markdown",
   "id": "0ec0f933",
   "metadata": {},
   "source": [
    "- The pages can be rotated in 90-degree increments with the **rotateClockwise()** and **rotateCounterClockwise()** methods. "
   ]
  },
  {
   "cell_type": "markdown",
   "id": "1c431930",
   "metadata": {},
   "source": [
    "### 6. What is the difference between a Run object and a Paragraph object?"
   ]
  },
  {
   "cell_type": "markdown",
   "id": "96c994fb",
   "metadata": {},
   "source": [
    "**Solution:**\n",
    "\n",
    "-  **Paragraph objects** represents the paragraphs in the document. Each of these Paragraph objects contains a list of one or more **Run objects**"
   ]
  },
  {
   "cell_type": "markdown",
   "id": "aa0dea50",
   "metadata": {},
   "source": [
    "### 7. How do you obtain a list of Paragraph objects for a Document object that’s stored in a variable named doc?"
   ]
  },
  {
   "cell_type": "markdown",
   "id": "14a0307d",
   "metadata": {},
   "source": [
    "**Solution:**"
   ]
  },
  {
   "cell_type": "markdown",
   "id": "3ac3a5cd",
   "metadata": {},
   "source": [
    "- By calling **doc.paragraphs** , we can obtain list of Paragraph objects for a Document object that’s stored in a variable named doc"
   ]
  },
  {
   "cell_type": "markdown",
   "id": "8b7cfeed",
   "metadata": {},
   "source": [
    "### 8. What type of object has bold, underline, italic, strike, and outline variables?"
   ]
  },
  {
   "cell_type": "markdown",
   "id": "950c3622",
   "metadata": {},
   "source": [
    "**Solution:**"
   ]
  },
  {
   "cell_type": "markdown",
   "id": "1376e818",
   "metadata": {},
   "source": [
    "- **Run objects** has bold, underline, italic, strike, and outline variables"
   ]
  },
  {
   "cell_type": "markdown",
   "id": "dbc375d5",
   "metadata": {},
   "source": [
    "### 9. What is the difference between False, True, and None for the bold variable?"
   ]
  },
  {
   "cell_type": "markdown",
   "id": "1b4bd1eb",
   "metadata": {},
   "source": [
    "**Solution:**"
   ]
  },
  {
   "cell_type": "markdown",
   "id": "10cac6ea",
   "metadata": {},
   "source": [
    "-  **True** - the attribute is always enabled, no matter what other styles are applied to the run.\n",
    "\n",
    "- **False** - the attribute is always disabled. \n",
    "\n",
    "- **None** - defaults to whatever the run’s style is set to."
   ]
  },
  {
   "cell_type": "markdown",
   "id": "a726af5d",
   "metadata": {},
   "source": [
    "### 10. How do you create a Document object for a new Word document?"
   ]
  },
  {
   "cell_type": "markdown",
   "id": "ecf1ffa8",
   "metadata": {},
   "source": [
    "**Solution:**"
   ]
  },
  {
   "cell_type": "code",
   "execution_count": 6,
   "id": "db7907bb",
   "metadata": {},
   "outputs": [],
   "source": [
    "import docx\n",
    "doc = docx.Document()"
   ]
  },
  {
   "cell_type": "markdown",
   "id": "e832a818",
   "metadata": {},
   "source": [
    "### 11. How do you add a paragraph with the text 'Hello, there!' to a Document object stored in a variable named doc?"
   ]
  },
  {
   "cell_type": "markdown",
   "id": "87407f6b",
   "metadata": {},
   "source": [
    "**Solution:**"
   ]
  },
  {
   "cell_type": "code",
   "execution_count": 7,
   "id": "2afb22a1",
   "metadata": {},
   "outputs": [
    {
     "data": {
      "text/plain": [
       "<docx.document.Document at 0x237e225e2c0>"
      ]
     },
     "execution_count": 7,
     "metadata": {},
     "output_type": "execute_result"
    }
   ],
   "source": [
    "doc.add_paragraph('Hello, there!')\n",
    "doc"
   ]
  },
  {
   "cell_type": "markdown",
   "id": "f7f5404b",
   "metadata": {},
   "source": [
    "### 12. What integers represent the levels of headings available in Word documents?"
   ]
  },
  {
   "cell_type": "markdown",
   "id": "0171ac82",
   "metadata": {},
   "source": [
    "**Solution:**"
   ]
  },
  {
   "cell_type": "markdown",
   "id": "35411b6d",
   "metadata": {},
   "source": [
    "- Integers 1 to 4 represents for various heading levels, with 1 being the main heading and 4 the lowest subheading. "
   ]
  },
  {
   "cell_type": "markdown",
   "id": "178cd7a0",
   "metadata": {},
   "source": [
    "-------------------------------------End of Assignment---------------------------------------------------------------------"
   ]
  }
 ],
 "metadata": {
  "kernelspec": {
   "display_name": "Python 3",
   "language": "python",
   "name": "python3"
  },
  "language_info": {
   "codemirror_mode": {
    "name": "ipython",
    "version": 3
   },
   "file_extension": ".py",
   "mimetype": "text/x-python",
   "name": "python",
   "nbconvert_exporter": "python",
   "pygments_lexer": "ipython3",
   "version": "3.8.8"
  }
 },
 "nbformat": 4,
 "nbformat_minor": 5
}
