{
 "cells": [
  {
   "cell_type": "markdown",
   "id": "45d6f9e1",
   "metadata": {},
   "source": [
    "<h2 style='color:skyblue' align='center'>iNeuron Full Stack Data Science Assignments</h2>\n",
    "<h3 style='color:brown' align='center'>Python Basic Assignment_7</h3>\n",
    "<h4 style='color:black' align='center'> Notebook Submitted By Thejas N on 17-Feb-22 </h4>"
   ]
  },
  {
   "cell_type": "markdown",
   "id": "b420d610",
   "metadata": {},
   "source": [
    "### 1. What is the name of the feature responsible for generating Regex objects?"
   ]
  },
  {
   "cell_type": "markdown",
   "id": "c4ba809e",
   "metadata": {},
   "source": [
    "**Solution:**  "
   ]
  },
  {
   "cell_type": "markdown",
   "id": "901e20b4",
   "metadata": {},
   "source": [
    "**re.compile()** is the function responsible for generating Regex objects."
   ]
  },
  {
   "cell_type": "markdown",
   "id": "5a917012",
   "metadata": {},
   "source": [
    "### 2. Why do raw strings often appear in Regex objects?"
   ]
  },
  {
   "cell_type": "markdown",
   "id": "be81c339",
   "metadata": {},
   "source": [
    "**Solution:**  raw strings often appear in Regex objects, so that the backslashes do not have to be escaped."
   ]
  },
  {
   "cell_type": "markdown",
   "id": "a1ed6fb2",
   "metadata": {},
   "source": [
    "### 3. What is the return value of the search() method?"
   ]
  },
  {
   "cell_type": "markdown",
   "id": "81b73a61",
   "metadata": {},
   "source": [
    "**Solution:** \n",
    "\n",
    "- search() method takes two parameters and returns a match object if there is a match. If there is more than one match, only the first occurrence of the match will be returned. If no matches are found, the value None is returned."
   ]
  },
  {
   "cell_type": "markdown",
   "id": "1e34968b",
   "metadata": {},
   "source": [
    "### 4. From a Match item, how do you get the actual strings that match the pattern?"
   ]
  },
  {
   "cell_type": "markdown",
   "id": "3f932a96",
   "metadata": {},
   "source": [
    "**Solution:**\n",
    "\n",
    "- The group() method returns the actual strings that match the pattern from a match item"
   ]
  },
  {
   "cell_type": "markdown",
   "id": "44feecd6",
   "metadata": {},
   "source": [
    "### 5. In the regex which created from the r'(\\d\\d\\d)-(\\d\\d\\d-\\d\\d\\d\\d)', what does group zero cover? Group 2? Group 1?"
   ]
  },
  {
   "cell_type": "markdown",
   "id": "818f5946",
   "metadata": {},
   "source": [
    "**Solution**:\n",
    "\n",
    "- Group zero covers the entire match. \n",
    "\n",
    "- Group 2 covers the second set of parentheses.\n",
    "\n",
    "- Group 1 covers the first set of parentheses."
   ]
  },
  {
   "cell_type": "markdown",
   "id": "6b2fffeb",
   "metadata": {},
   "source": [
    "### 6. In standard expression syntax, parentheses and intervals have distinct meanings. How can you tell a regex that you want it to fit real parentheses and periods?"
   ]
  },
  {
   "cell_type": "markdown",
   "id": "f4a1c4ec",
   "metadata": {},
   "source": [
    "**Solution:**  Using  **`\\.`**  **`\\(`**  and **`\\)`**"
   ]
  },
  {
   "cell_type": "markdown",
   "id": "63ef43fe",
   "metadata": {},
   "source": [
    "### 7. The findall() method returns a string list or a list of string tuples. What causes it to return one of the two options?"
   ]
  },
  {
   "cell_type": "markdown",
   "id": "cb60915c",
   "metadata": {},
   "source": [
    "**Solution:**\n",
    "\n",
    "- If the regex has no groups, a list of strings is returned. \n",
    "\n",
    "- If the regex has groups, a list of tuples of strings is returned."
   ]
  },
  {
   "cell_type": "markdown",
   "id": "30f356b1",
   "metadata": {},
   "source": [
    "### 8. In standard expressions, what does the | character mean?"
   ]
  },
  {
   "cell_type": "markdown",
   "id": "6bbeb21d",
   "metadata": {},
   "source": [
    "**Solution:**\n",
    "\n",
    "- In standard expression | character means OR operator"
   ]
  },
  {
   "cell_type": "markdown",
   "id": "fe965004",
   "metadata": {},
   "source": [
    "### 9. In regular expressions, what does the character ? stand for?"
   ]
  },
  {
   "cell_type": "markdown",
   "id": "36539314",
   "metadata": {},
   "source": [
    "**Solution:**\n",
    "\n",
    "- In regular expressions, character ? stands for zero or one match of the preceeding group."
   ]
  },
  {
   "cell_type": "markdown",
   "id": "0349c243",
   "metadata": {},
   "source": [
    "### 10.In regular expressions, what is the difference between the + and * characters?"
   ]
  },
  {
   "cell_type": "markdown",
   "id": "b07b18f4",
   "metadata": {},
   "source": [
    "**Solution:**"
   ]
  },
  {
   "cell_type": "markdown",
   "id": "9bc517aa",
   "metadata": {},
   "source": [
    "(+) character specifies an expression to its left for one or more times. Eg: 's+' is an expression which gives \"s\", \"ss\", \"sss\", and so on.\n",
    "\n",
    "( * ) character specifies an expression to its left for 0 or more times: Eg: 'Br*' is an expression which gives \"B\", \"Br\", \"Brr\", \"Brrr\", and so on…"
   ]
  },
  {
   "cell_type": "markdown",
   "id": "c9672be7",
   "metadata": {},
   "source": [
    "### 11. What is the difference between {4} and {4,5} in regular expression?"
   ]
  },
  {
   "cell_type": "markdown",
   "id": "5e52518a",
   "metadata": {},
   "source": [
    "**Solution**\n",
    "\n",
    "- {4} means that the preceding character is to be repeated 2 times\n",
    "\n",
    "- {4,5} means that the preceding character is repeated atleast min and at most max times."
   ]
  },
  {
   "cell_type": "markdown",
   "id": "fc01a158",
   "metadata": {},
   "source": [
    "### 12. What do you mean by the \\d, \\w, and \\s shorthand character classes signify in regular expressions?"
   ]
  },
  {
   "cell_type": "markdown",
   "id": "e03c9c1e",
   "metadata": {},
   "source": [
    "**Solution**\n",
    "\n",
    "- \\d matches any decimal digit character and is equivalant to [0-9]\n",
    "\n",
    "\n",
    "- \\w matches any alphanumeric word character and is equivalent to [a-zA-Z0-9_]:\n",
    "\n",
    "\n",
    "- \\s matches any whitespace character:"
   ]
  },
  {
   "cell_type": "markdown",
   "id": "2f9aecad",
   "metadata": {},
   "source": [
    "### 13. What do means by \\D, \\W, and \\S shorthand character classes signify in regular expressions?"
   ]
  },
  {
   "cell_type": "markdown",
   "id": "b1da96e9",
   "metadata": {},
   "source": [
    "**Solution**\n",
    "\n",
    "- \\D matches any character that is not a decimal digit and is equivalant to [^0-9]\n",
    "\n",
    "\n",
    "- \\W matches any non-word character and is equivalent to [^a-zA-Z0-9_]\n",
    "\n",
    "\n",
    "- \\S matches any character that is not a white space:"
   ]
  },
  {
   "cell_type": "markdown",
   "id": "14c46822",
   "metadata": {},
   "source": [
    "### 14. What is the difference between .*? and .*?\n",
    "\n",
    "**Solution**\n",
    "\n",
    "- .*?* performs a greedy match which returns the longest string that meets the condition.\n",
    "- .? performs a nongreedy match which returns the shortest string that meets the condition."
   ]
  },
  {
   "cell_type": "markdown",
   "id": "d669bde1",
   "metadata": {},
   "source": [
    "### 15. What is the syntax for matching both numbers and lowercase letters with a character class?"
   ]
  },
  {
   "cell_type": "markdown",
   "id": "27818315",
   "metadata": {},
   "source": [
    "**Solution:** [0-9a-z] or [a-z0-9]"
   ]
  },
  {
   "cell_type": "markdown",
   "id": "ce8755e9",
   "metadata": {},
   "source": [
    "### 16. What is the procedure for making a normal expression in regax case insensitive?"
   ]
  },
  {
   "cell_type": "markdown",
   "id": "aad8b2d2",
   "metadata": {},
   "source": [
    "**Solution:**\n",
    "\n",
    "- We can pass re.IGNORECASE to the flags parameter of search to make normal expression case sensitive"
   ]
  },
  {
   "cell_type": "markdown",
   "id": "6fcfc32a",
   "metadata": {},
   "source": [
    "**Example:**"
   ]
  },
  {
   "cell_type": "code",
   "execution_count": 1,
   "id": "25ad8154",
   "metadata": {},
   "outputs": [
    {
     "name": "stdout",
     "output_type": "stream",
     "text": [
      "<re.Match object; span=(0, 6), match='TheJaS'>\n"
     ]
    }
   ],
   "source": [
    "import re\n",
    "print (re.search('thejas', 'TheJaS', re.IGNORECASE))"
   ]
  },
  {
   "cell_type": "markdown",
   "id": "0d993cb2",
   "metadata": {},
   "source": [
    "### 17. What does the . character normally match? What does it match if re.DOTALL is passed as 2nd argument in re.compile()?"
   ]
  },
  {
   "cell_type": "markdown",
   "id": "1f6ca22d",
   "metadata": {},
   "source": [
    "**Solution:**\n",
    "\n",
    "- **.** character matches any character except a newline. \n",
    "\n",
    "- If re.DOTALL is passed as 2nd argument in re.compile(), then **.** character will also match the newline character."
   ]
  },
  {
   "cell_type": "markdown",
   "id": "b934f059",
   "metadata": {},
   "source": [
    "### 18. If numReg = re.compile(r'\\d+'), what will numRegex.sub('X', '11 drummers, 10 pipers, five rings, 4 hen') return?"
   ]
  },
  {
   "cell_type": "markdown",
   "id": "253b341e",
   "metadata": {},
   "source": [
    "**Solution:**"
   ]
  },
  {
   "cell_type": "code",
   "execution_count": 2,
   "id": "fee9603b",
   "metadata": {},
   "outputs": [
    {
     "data": {
      "text/plain": [
       "'X drummers, X pipers, five rings, X hen'"
      ]
     },
     "execution_count": 2,
     "metadata": {},
     "output_type": "execute_result"
    }
   ],
   "source": [
    "numRegex = re.compile(r'\\d+')\n",
    "numRegex.sub('X', '11 drummers, 10 pipers, five rings, 4 hen')"
   ]
  },
  {
   "cell_type": "markdown",
   "id": "a1f4f50b",
   "metadata": {},
   "source": [
    "### 19. What does passing re.VERBOSE as the 2nd argument to re.compile() allow to do?"
   ]
  },
  {
   "cell_type": "markdown",
   "id": "ecf6ffb4",
   "metadata": {},
   "source": [
    "**Solution:**\n",
    "\n",
    "- Passing re.VERBOSE as the 2nd argument to re.compile() allows to add whitespace and comments to the string passed."
   ]
  },
  {
   "cell_type": "markdown",
   "id": "82b6e88b",
   "metadata": {},
   "source": [
    "### 20. How would you write a regex that match a number with comma for every three digits? It must match the given following:\n",
    "- '42'\n",
    "- '1,234'\n",
    "- '6,368,745'<br>\n",
    "but not the following:\n",
    "- '12,34,567' (which has only two digits between the commas)\n",
    "- '1234' (which lacks commas)\n"
   ]
  },
  {
   "cell_type": "markdown",
   "id": "e5ffd459",
   "metadata": {},
   "source": [
    "**Solution:**"
   ]
  },
  {
   "cell_type": "code",
   "execution_count": 3,
   "id": "50f3f9ff",
   "metadata": {},
   "outputs": [
    {
     "name": "stdout",
     "output_type": "stream",
     "text": [
      "Output: 42 -> <re.Match object; span=(0, 2), match='42'>\n",
      "Output: 1,234 -> <re.Match object; span=(0, 5), match='1,234'>\n",
      "Output: 6,368,745 -> <re.Match object; span=(0, 9), match='6,368,745'>\n",
      "Output: 12,34,567 -> None\n",
      "Output: 1234 -> None\n"
     ]
    }
   ],
   "source": [
    "import re\n",
    "exp = r'^\\d{1,3}(,\\d{3})*$'\n",
    "match_unmatch = re.compile(exp)\n",
    "for elem in ['42','1,234', '6,368,745','12,34,567','1234']:\n",
    "    print('Output:',elem, '->', match_unmatch.search(elem))"
   ]
  },
  {
   "cell_type": "markdown",
   "id": "7816a07a",
   "metadata": {},
   "source": [
    "### 21. How would you write a regex that matches the full name of someone whose last name is Watanabe? You can assume that the first name that comes before it will always be one word that begins with a capital letter. The regex must match the following:\n",
    "'Haruto Watanabe'<br>\n",
    "\n",
    "'Alice Watanabe'<br>\n",
    "\n",
    "\n",
    "'RoboCop Watanabe'<br>\n",
    "\n",
    "**but not the following:**<br>\n",
    "\n",
    "'haruto Watanabe' (where the first name is not capitalized)<br>\n",
    "\n",
    "'Mr. Watanabe' (where the preceding word has a nonletter character)<br>\n",
    "\n",
    "'Watanabe' (which has no first name)<br>\n",
    "\n",
    "'Haruto watanabe' (where Watanabe is not capitalized)<br>\n"
   ]
  },
  {
   "cell_type": "markdown",
   "id": "931f9089",
   "metadata": {},
   "source": [
    "**Solution**"
   ]
  },
  {
   "cell_type": "code",
   "execution_count": 4,
   "id": "e70be4d6",
   "metadata": {},
   "outputs": [
    {
     "name": "stdout",
     "output_type": "stream",
     "text": [
      "Output:  Haruto Watanabe -> <re.Match object; span=(0, 15), match='Haruto Watanabe'>\n",
      "Output:  Alice Watanabe -> <re.Match object; span=(0, 14), match='Alice Watanabe'>\n",
      "Output:  RoboCop Watanabe -> <re.Match object; span=(4, 16), match='Cop Watanabe'>\n",
      "Output:  haruto Watanabe -> None\n",
      "Output:  Mr. Watanabe -> None\n",
      "Output:  Watanabe -> None\n",
      "Output:  Haruto watanabe -> None\n"
     ]
    }
   ],
   "source": [
    "import re\n",
    "exp = r'[A-Z]{1}[a-z]*\\sWatanabe'\n",
    "match_unmatch = re.compile(exp)\n",
    "for name in ['Haruto Watanabe','Alice Watanabe','RoboCop Watanabe','haruto Watanabe','Mr. Watanabe','Watanabe','Haruto watanabe']:\n",
    "    print('Output: ',name,'->',match_unmatch.search(name))"
   ]
  },
  {
   "cell_type": "markdown",
   "id": "fba888d6",
   "metadata": {},
   "source": [
    "### 22. How would you write a regex that matches a sentence where the first word is either Alice, Bob, or Carol; the second word is either eats, pets, or throws; the third word is apples, cats, or baseballs; and the sentence ends with a period? This regex should be case-insensitive. It must match the following:\n",
    "'Alice eats apples.' <br>\n",
    "\n",
    "'Bob pets cats.' <br>\n",
    "\n",
    "'Carol throws baseballs.' <br>\n",
    "\n",
    "'Alice throws Apples.' <br>\n",
    "\n",
    "'BOB EATS CATS.' <br>\n",
    "\n",
    "**but not the following:** <br>\n",
    "\n",
    "'RoboCop eats apples.' <br>\n",
    "\n",
    "'ALICE THROWS FOOTBALLS.' <br>\n",
    "\n",
    "'Carol eats 7 cats.' <br>"
   ]
  },
  {
   "cell_type": "markdown",
   "id": "8ed7aa17",
   "metadata": {},
   "source": [
    "**Solution:**"
   ]
  },
  {
   "cell_type": "code",
   "execution_count": 5,
   "id": "4a7df72d",
   "metadata": {},
   "outputs": [
    {
     "name": "stdout",
     "output_type": "stream",
     "text": [
      "Output:  Alice eats apples. -> <re.Match object; span=(0, 18), match='Alice eats apples.'>\n",
      "Output:  Bob pets cats. -> <re.Match object; span=(0, 14), match='Bob pets cats.'>\n",
      "Output:  Carol throws baseballs. -> <re.Match object; span=(0, 23), match='Carol throws baseballs.'>\n",
      "Output:  Alice throws Apples. -> <re.Match object; span=(0, 20), match='Alice throws Apples.'>\n",
      "Output:  BOB EATS CATS. -> <re.Match object; span=(0, 14), match='BOB EATS CATS.'>\n",
      "Output:  RoboCop eats apples. -> None\n",
      "Output:  ALICE THROWS FOOTBALLS. -> None\n",
      "Output:  Carol eats 7 cats. -> None\n"
     ]
    }
   ],
   "source": [
    "import re\n",
    "exp = r'(Alice|Bob|Carol)\\s(eats|pets|throws)\\s(apples|cats|baseballs)\\.'\n",
    "match_unmatch = re.compile(exp,re.IGNORECASE)\n",
    "for elem in ['Alice eats apples.','Bob pets cats.','Carol throws baseballs.','Alice throws Apples.','BOB EATS CATS.','RoboCop eats apples.'\n",
    ",'ALICE THROWS FOOTBALLS.','Carol eats 7 cats.']:\n",
    "    print('Output: ',elem,'->',match_unmatch.search(elem))"
   ]
  },
  {
   "cell_type": "markdown",
   "id": "178cd7a0",
   "metadata": {},
   "source": [
    "-------------------------------------End of Assignment---------------------------------------------------------------------"
   ]
  }
 ],
 "metadata": {
  "kernelspec": {
   "display_name": "Python 3",
   "language": "python",
   "name": "python3"
  },
  "language_info": {
   "codemirror_mode": {
    "name": "ipython",
    "version": 3
   },
   "file_extension": ".py",
   "mimetype": "text/x-python",
   "name": "python",
   "nbconvert_exporter": "python",
   "pygments_lexer": "ipython3",
   "version": "3.8.8"
  }
 },
 "nbformat": 4,
 "nbformat_minor": 5
}
