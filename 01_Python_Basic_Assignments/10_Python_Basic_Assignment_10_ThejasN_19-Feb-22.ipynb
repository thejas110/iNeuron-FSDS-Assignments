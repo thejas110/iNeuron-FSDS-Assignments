{
 "cells": [
  {
   "cell_type": "markdown",
   "id": "45d6f9e1",
   "metadata": {},
   "source": [
    "<h2 style='color:skyblue' align='center'>iNeuron Full Stack Data Science Assignments</h2>\n",
    "<h3 style='color:brown' align='center'>Python Basic Assignment_10</h3>\n",
    "<h4 style='color:black' align='center'> Notebook Submitted By Thejas N on 19-Feb-22 </h4>"
   ]
  },
  {
   "cell_type": "markdown",
   "id": "b420d610",
   "metadata": {},
   "source": [
    "### 1. How do you distinguish between shutil.copy() and shutil.copytree()?"
   ]
  },
  {
   "cell_type": "markdown",
   "id": "c4ba809e",
   "metadata": {},
   "source": [
    "**Solution:** "
   ]
  },
  {
   "cell_type": "markdown",
   "id": "3563f55a",
   "metadata": {},
   "source": [
    "- **shutil.copy()** will copy a single file.\n",
    "\n",
    "- **shutil.copytree()** will copy an entire folder and every folder and file contained in it."
   ]
  },
  {
   "cell_type": "markdown",
   "id": "5a917012",
   "metadata": {},
   "source": [
    "### 2. What function is used to rename files??"
   ]
  },
  {
   "cell_type": "markdown",
   "id": "be81c339",
   "metadata": {},
   "source": [
    "**Solution:** \n",
    "\n",
    "- **rename()** function is used to rename files"
   ]
  },
  {
   "cell_type": "markdown",
   "id": "a1ed6fb2",
   "metadata": {},
   "source": [
    "### 3. What is the difference between the delete functions in the send2trash and shutil modules?"
   ]
  },
  {
   "cell_type": "markdown",
   "id": "81b73a61",
   "metadata": {},
   "source": [
    "**Solution:** "
   ]
  },
  {
   "cell_type": "markdown",
   "id": "c03e6aff",
   "metadata": {},
   "source": [
    "- delete function **send2trash** module will move a file or folder to the recycle bin\n",
    "\n",
    "- delete function **shutil** module will permanently delete files and folders."
   ]
  },
  {
   "cell_type": "markdown",
   "id": "1e34968b",
   "metadata": {},
   "source": [
    "### 4.ZipFile objects have a close() method just like File objects’ close() method. What ZipFile method is equivalent to File objects’ open() method?"
   ]
  },
  {
   "cell_type": "markdown",
   "id": "3f932a96",
   "metadata": {},
   "source": [
    "**Solution:**"
   ]
  },
  {
   "cell_type": "markdown",
   "id": "bd0eddf7",
   "metadata": {},
   "source": [
    "- ZipFile Module provides a method called ZipFile() to read and write to zipFiles equivalent to File object open() method .\n",
    "\n",
    "- Example: zipfile.ZipFile('filename', mode = 'r')"
   ]
  },
  {
   "cell_type": "markdown",
   "id": "44feecd6",
   "metadata": {},
   "source": [
    "### 5. Create a programme that searches a folder tree for files with a certain file extension (such as .pdf or .jpg). Copy these files from whatever location they are in to a new folder."
   ]
  },
  {
   "cell_type": "markdown",
   "id": "818f5946",
   "metadata": {},
   "source": [
    "**Solution**:\n"
   ]
  },
  {
   "cell_type": "code",
   "execution_count": 7,
   "id": "3b9830aa",
   "metadata": {},
   "outputs": [
    {
     "name": "stdout",
     "output_type": "stream",
     "text": [
      "Folder Name: C:\\Users\\theja\\01_Python_Basic_Assignments\\main_folder\n",
      "\n",
      "Sub Folders: []\n",
      "\n",
      "Files: ['test.jpg']\n",
      "\n",
      "Image file is copied successfully from C:\\Users\\theja\\01_Python_Basic_Assignments\\main_folder to C:\\Users\\theja\\01_Python_Basic_Assignments\\copy_folder\n"
     ]
    }
   ],
   "source": [
    "import os\n",
    "import shutil\n",
    "\n",
    "def search_copy(first,second,extension):\n",
    "    first = os.path.abspath(first)\n",
    "    second = os.path.abspath(second)\n",
    "    for foldername, subfolder, filenames in os.walk(first):\n",
    "        print(f'Folder Name: {foldername}',end='\\n\\n')\n",
    "        print(f'Sub Folders: {subfolder}',end='\\n\\n')\n",
    "        print(f'Files: {filenames}',end='\\n\\n')\n",
    "        for filename in filenames:\n",
    "            fileName,extensions = os.path.splitext(filename)\n",
    "            if extensions in extension:\n",
    "                target = foldername+os.path.sep+fileName+extensions\n",
    "                shutil.copy(target, second)\n",
    "        print(f'Image file is copied successfully from {first} to {second}')\n",
    "    \n",
    "\n",
    "first = 'main_folder'\n",
    "second = 'copy_folder'\n",
    "extension = ['.pdf','.jpg']\n",
    "\n",
    "search_copy(first, second, extension)"
   ]
  },
  {
   "cell_type": "markdown",
   "id": "178cd7a0",
   "metadata": {},
   "source": [
    "-------------------------------------End of Assignment---------------------------------------------------------------------"
   ]
  }
 ],
 "metadata": {
  "kernelspec": {
   "display_name": "Python 3",
   "language": "python",
   "name": "python3"
  },
  "language_info": {
   "codemirror_mode": {
    "name": "ipython",
    "version": 3
   },
   "file_extension": ".py",
   "mimetype": "text/x-python",
   "name": "python",
   "nbconvert_exporter": "python",
   "pygments_lexer": "ipython3",
   "version": "3.8.8"
  }
 },
 "nbformat": 4,
 "nbformat_minor": 5
}
