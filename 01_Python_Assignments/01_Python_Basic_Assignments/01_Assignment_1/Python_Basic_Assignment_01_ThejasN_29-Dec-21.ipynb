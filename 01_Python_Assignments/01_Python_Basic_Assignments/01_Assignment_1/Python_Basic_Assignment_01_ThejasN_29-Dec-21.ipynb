{
 "cells": [
  {
   "cell_type": "markdown",
   "id": "45d6f9e1",
   "metadata": {},
   "source": [
    "<h2 style='color:skyblue' align='center'>iNeuron Full Stack Data Science Assignments</h2>\n",
    "<h3 style='color:brown' align='center'>Python Basic Assignment_1</h3>\n",
    "<h4 style='color:black' align='center'> Notebook Submitted By Thejas N on 29-Dec-21 </h4>"
   ]
  },
  {
   "cell_type": "markdown",
   "id": "b420d610",
   "metadata": {},
   "source": [
    "### 1. In the below elements which of them are values or an expression? eg:- values can be integer or string and expressions will be mathematical operators.\n",
    "### * \n",
    "### 'hello'\n",
    "### -87.8\n",
    "### - \n",
    "### / \n",
    "### +\t\n",
    "### 6 "
   ]
  },
  {
   "cell_type": "raw",
   "id": "bb82a5b0",
   "metadata": {},
   "source": [
    "1) * element is an expression, which is used as a multiplication operator.\n",
    "\n",
    "2) 'hello' element is a value, whose datatype is 'string'.\n",
    "\n",
    "3) -87.8 element is a value, whose datatype is 'float'.\n",
    "\n",
    "4) / element is an expression, which is used as a divisional operator.\n",
    "\n",
    "5) + element is an expression, which is used as an additional operator.\n",
    "\n",
    "6) 6 is a value, whose datatype is 'integer(int)'"
   ]
  },
  {
   "cell_type": "markdown",
   "id": "f13b866f",
   "metadata": {},
   "source": [
    "### 2. What is the difference between string and variable?"
   ]
  },
  {
   "cell_type": "raw",
   "id": "332d3c39",
   "metadata": {},
   "source": [
    "- Variable is an entity which can able to store the so that it can use that data in the later stage.\n",
    "\n",
    "- String is any value or character specified within single or double quotes which can be stored in a variable. "
   ]
  },
  {
   "cell_type": "markdown",
   "id": "6d76359c",
   "metadata": {},
   "source": [
    "### 3. Describe three different data types."
   ]
  },
  {
   "cell_type": "raw",
   "id": "db34129d",
   "metadata": {},
   "source": [
    "1. Numeric data type: \n",
    "   - It represents the data which has a numerical value, which can be\n",
    "       - Integer(int): Example: 4\n",
    "       - Float(float): Example: 4.0 \n",
    "       - Complex numbers(complex): Example: 4+5J where'4' is the real value and '5' is the imaginary value.\n",
    "       \n",
    "2. Boolean data type (bool):\n",
    "    - It represents one of the two built-in values i.e., True or False.\n",
    "        - True = 1\n",
    "        - False = 0\n",
    "        \n",
    "3. Dictionary data type (dict):\n",
    "    - It is an unordered collection of data values, which holds key:value pair.\n",
    "    - Each key-value pair in a dictionary is separated by a colon (:), whereas each key is separated by a comma(,).\n",
    "    - Example: Dict = {1: 'user_id', 'name': 'user_name', 3: 'user_age'} \n",
    "\n",
    "Other Data Types includes:\n",
    "\n",
    "    - Sets data type\n",
    "    \n",
    "    - Sequence data type\n",
    "        - List\n",
    "        - Tuple\n",
    "        - String"
   ]
  },
  {
   "cell_type": "markdown",
   "id": "32562391",
   "metadata": {},
   "source": [
    "### 4. What is an expression made up of? What do all expressions do?"
   ]
  },
  {
   "cell_type": "raw",
   "id": "f3e8c325",
   "metadata": {},
   "source": [
    "- An expression is made up of combination of mathematical operators that is interpreted to output a value. \n",
    "\n",
    "- An expression is evaluated as per the precedence of its operators, so that if there is more than one operator in an expression, their precedence decides which operation will be performed first.\n",
    "\n",
    "Python Operators Precedence Rule: (PEMDAS)\n",
    "\n",
    "P- Paranthesis\n",
    "E- Exponentional\n",
    "M- Multiplication\n",
    "D- Division\n",
    "A- Addition\n",
    "S - Subtraction\n",
    "\n",
    "The precedence of operators is listed from High to low. \n",
    "\n",
    "Example: \n",
    "\n",
    "Input: ((((6+4)*2)-10)/2)-4*2\n",
    "\n",
    "Output: -3 \n",
    "\n",
    "Explaination: As per PEMDAS rule, below listed sequence followed to output the value.\n",
    "\n",
    "Step 01: (6+4) = 10\n",
    "Step 02: (10*2) = 20\n",
    "Step 03: (20-10) = 10\n",
    "Step 04: (10/2) = 5\n",
    "Step 05:  4*2 = 8\n",
    "Step 06:  5-8 = -3"
   ]
  },
  {
   "cell_type": "markdown",
   "id": "650435e3",
   "metadata": {},
   "source": [
    "### 5. This assignment statements, like spam = 10. What is the difference between an expression and a statement?"
   ]
  },
  {
   "cell_type": "raw",
   "id": "16fa1ee8",
   "metadata": {},
   "source": [
    "- \"spam = 10\" is a statement that assigns \"spam\" to the value of the expression \"10\"\n",
    "\n",
    "- An expressions always returns a value and can print the result.\n",
    "\n",
    "- A statement never returns a value and cannot print the result."
   ]
  },
  {
   "cell_type": "markdown",
   "id": "b2abf0b7",
   "metadata": {},
   "source": [
    "### 6. After running the following code, what does the variable bacon contain?\n",
    "### bacon = 22\n",
    "### bacon + 1"
   ]
  },
  {
   "cell_type": "code",
   "execution_count": 14,
   "id": "7ab0acf1",
   "metadata": {},
   "outputs": [
    {
     "data": {
      "text/plain": [
       "23"
      ]
     },
     "execution_count": 14,
     "metadata": {},
     "output_type": "execute_result"
    }
   ],
   "source": [
    "bacon = 22\n",
    "bacon+1"
   ]
  },
  {
   "cell_type": "raw",
   "id": "046e37e5",
   "metadata": {},
   "source": [
    "After running the above code, the value of bacon contain 23."
   ]
  },
  {
   "cell_type": "markdown",
   "id": "00754c6f",
   "metadata": {},
   "source": [
    "### 7. What should the values of the following two terms be?\n",
    "### 'spam' + 'spamspam'\n",
    "### 'spam' * 3"
   ]
  },
  {
   "cell_type": "code",
   "execution_count": 11,
   "id": "0a75c432",
   "metadata": {},
   "outputs": [
    {
     "data": {
      "text/plain": [
       "'spamspamspam'"
      ]
     },
     "execution_count": 11,
     "metadata": {},
     "output_type": "execute_result"
    }
   ],
   "source": [
    "'spam' + 'spamspam'"
   ]
  },
  {
   "cell_type": "code",
   "execution_count": 12,
   "id": "b07b9bc5",
   "metadata": {},
   "outputs": [
    {
     "data": {
      "text/plain": [
       "'spamspamspam'"
      ]
     },
     "execution_count": 12,
     "metadata": {},
     "output_type": "execute_result"
    }
   ],
   "source": [
    "'spam' * 3"
   ]
  },
  {
   "cell_type": "raw",
   "id": "c39bc6b2",
   "metadata": {},
   "source": [
    "The values of the above two codes are Same."
   ]
  },
  {
   "cell_type": "markdown",
   "id": "585019bf",
   "metadata": {},
   "source": [
    "### 8. Why is eggs a valid variable name while 100 is invalid?"
   ]
  },
  {
   "cell_type": "raw",
   "id": "37f6964e",
   "metadata": {},
   "source": [
    "'eggs' a valid variable name while '100' is invalid because, variable name must begin with a letter or the underscore(_) character, and cannot begin with number. "
   ]
  },
  {
   "cell_type": "markdown",
   "id": "19ba2887",
   "metadata": {},
   "source": [
    "### 9. What three functions can be used to get the integer, floating-point number, or string version of a value?"
   ]
  },
  {
   "cell_type": "raw",
   "id": "72ef96ad",
   "metadata": {},
   "source": [
    "int() function is used to get integer\n",
    "float() function is used to get floating-point number.\n",
    "str() function is used to get string version of a value."
   ]
  },
  {
   "cell_type": "markdown",
   "id": "27cc8d6d",
   "metadata": {},
   "source": [
    "### 10. Why does this expression cause an error? How can you fix it?\n",
    "### 'I have eaten ' + 99 + ' burritos.'"
   ]
  },
  {
   "cell_type": "code",
   "execution_count": 15,
   "id": "c8b1a72b",
   "metadata": {},
   "outputs": [
    {
     "ename": "TypeError",
     "evalue": "can only concatenate str (not \"int\") to str",
     "output_type": "error",
     "traceback": [
      "\u001b[1;31m---------------------------------------------------------------------------\u001b[0m",
      "\u001b[1;31mTypeError\u001b[0m                                 Traceback (most recent call last)",
      "\u001b[1;32m<ipython-input-15-d24137131a5c>\u001b[0m in \u001b[0;36m<module>\u001b[1;34m\u001b[0m\n\u001b[1;32m----> 1\u001b[1;33m \u001b[1;34m'I have eaten '\u001b[0m \u001b[1;33m+\u001b[0m \u001b[1;36m99\u001b[0m \u001b[1;33m+\u001b[0m \u001b[1;34m' burritos.'\u001b[0m\u001b[1;33m\u001b[0m\u001b[1;33m\u001b[0m\u001b[0m\n\u001b[0m",
      "\u001b[1;31mTypeError\u001b[0m: can only concatenate str (not \"int\") to str"
     ]
    }
   ],
   "source": [
    "'I have eaten ' + 99 + ' burritos.'"
   ]
  },
  {
   "cell_type": "raw",
   "id": "a17b6339",
   "metadata": {},
   "source": [
    " - The above expression resulted in a TypeError because it can concatenate string(str) to string(str), but the expression has an integer(int) in between the string. Hence it could not convert. \n",
    "\n",
    "- Solution: Converting 99 to string datatype will resolve this error. This can be done either by putting the 99 in between single or double quotes or by type casting. "
   ]
  },
  {
   "cell_type": "code",
   "execution_count": 16,
   "id": "70f15f0d",
   "metadata": {},
   "outputs": [
    {
     "data": {
      "text/plain": [
       "'I have eaten 99 burritos.'"
      ]
     },
     "execution_count": 16,
     "metadata": {},
     "output_type": "execute_result"
    }
   ],
   "source": [
    "# Solution Method 01:\n",
    "'I have eaten ' + '99' + ' burritos.'"
   ]
  },
  {
   "cell_type": "code",
   "execution_count": 17,
   "id": "65fb4d67",
   "metadata": {},
   "outputs": [
    {
     "data": {
      "text/plain": [
       "'I have eaten 99 burritos.'"
      ]
     },
     "execution_count": 17,
     "metadata": {},
     "output_type": "execute_result"
    }
   ],
   "source": [
    "# Solution Method 02:\n",
    "'I have eaten ' + str(99) + ' burritos.'"
   ]
  },
  {
   "cell_type": "code",
   "execution_count": null,
   "id": "f75715c0",
   "metadata": {},
   "outputs": [],
   "source": [
    "------------------------------------------- End of Assignment-------------------------------------------------------------------"
   ]
  }
 ],
 "metadata": {
  "kernelspec": {
   "display_name": "Python 3",
   "language": "python",
   "name": "python3"
  },
  "language_info": {
   "codemirror_mode": {
    "name": "ipython",
    "version": 3
   },
   "file_extension": ".py",
   "mimetype": "text/x-python",
   "name": "python",
   "nbconvert_exporter": "python",
   "pygments_lexer": "ipython3",
   "version": "3.8.8"
  }
 },
 "nbformat": 4,
 "nbformat_minor": 5
}
